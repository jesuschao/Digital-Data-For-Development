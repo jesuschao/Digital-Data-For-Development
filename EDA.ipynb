{
 "cells": [
  {
   "cell_type": "markdown",
   "id": "8c19b53e",
   "metadata": {},
   "source": [
    "# Import library"
   ]
  },
  {
   "cell_type": "code",
   "execution_count": 2,
   "id": "91cd4f25",
   "metadata": {},
   "outputs": [],
   "source": [
    "import pandas as pd\n",
    "import seaborn as sns\n",
    "import matplotlib.pyplot as plt\n",
    "import numpy as np\n",
    "import plotly.express as px\n",
    "import plotly.graph_objects as go"
   ]
  },
  {
   "cell_type": "code",
   "execution_count": null,
   "id": "c643c88d",
   "metadata": {},
   "outputs": [],
   "source": []
  },
  {
   "cell_type": "code",
   "execution_count": 4,
   "id": "11a6f298",
   "metadata": {},
   "outputs": [],
   "source": [
    "mapping = pd.read_csv(\"data/linkedin_to_isic_rev_4_industry_mapping_0.csv\")\n",
    "employment = pd.read_excel(\"data/public_use-industry-employment-growth.xlsx\")\n",
    "skills_needs = pd.read_excel(\"data/public_use-industry-skills-needs.xlsx\")\n",
    "skill_penetration = pd.read_excel(\"data/public_use-skill-penetration.xlsx\")\n",
    "country_migration = pd.read_excel(\"data/talent_migration/country_migration.xlsx\")\n",
    "industry_migration = pd.read_excel(\"data/talent_migration/industry_migration.xlsx\")\n",
    "skill_migration = pd.read_excel(\"data/talent_migration/skill_migration.xlsx\")"
   ]
  },
  {
   "cell_type": "code",
   "execution_count": null,
   "id": "6076edfa",
   "metadata": {},
   "outputs": [],
   "source": []
  },
  {
   "cell_type": "code",
   "execution_count": 6,
   "id": "d925a936",
   "metadata": {},
   "outputs": [
    {
     "data": {
      "text/html": [
       "<div>\n",
       "<style scoped>\n",
       "    .dataframe tbody tr th:only-of-type {\n",
       "        vertical-align: middle;\n",
       "    }\n",
       "\n",
       "    .dataframe tbody tr th {\n",
       "        vertical-align: top;\n",
       "    }\n",
       "\n",
       "    .dataframe thead th {\n",
       "        text-align: right;\n",
       "    }\n",
       "</style>\n",
       "<table border=\"1\" class=\"dataframe\">\n",
       "  <thead>\n",
       "    <tr style=\"text-align: right;\">\n",
       "      <th></th>\n",
       "      <th>isic_section</th>\n",
       "      <th>isic_section_name</th>\n",
       "      <th>isic_division</th>\n",
       "      <th>isic_division_name</th>\n",
       "      <th>industry_sk</th>\n",
       "      <th>industry_name</th>\n",
       "      <th>Industry_group_sk</th>\n",
       "      <th>Industry_group_name</th>\n",
       "    </tr>\n",
       "  </thead>\n",
       "  <tbody>\n",
       "    <tr>\n",
       "      <th>0</th>\n",
       "      <td>A</td>\n",
       "      <td>A. Agriculture; forestry and fishing</td>\n",
       "      <td>1</td>\n",
       "      <td>Crop and animal production, hunting and relate...</td>\n",
       "      <td>63</td>\n",
       "      <td>farming</td>\n",
       "      <td>1</td>\n",
       "      <td>Agriculture</td>\n",
       "    </tr>\n",
       "    <tr>\n",
       "      <th>1</th>\n",
       "      <td>A</td>\n",
       "      <td>A. Agriculture; forestry and fishing</td>\n",
       "      <td>1</td>\n",
       "      <td>Crop and animal production, hunting and relate...</td>\n",
       "      <td>64</td>\n",
       "      <td>ranching</td>\n",
       "      <td>1</td>\n",
       "      <td>Agriculture</td>\n",
       "    </tr>\n",
       "  </tbody>\n",
       "</table>\n",
       "</div>"
      ],
      "text/plain": [
       "  isic_section                      isic_section_name  isic_division  \\\n",
       "0            A   A. Agriculture; forestry and fishing              1   \n",
       "1            A   A. Agriculture; forestry and fishing              1   \n",
       "\n",
       "                                  isic_division_name  industry_sk  \\\n",
       "0  Crop and animal production, hunting and relate...           63   \n",
       "1  Crop and animal production, hunting and relate...           64   \n",
       "\n",
       "  industry_name  Industry_group_sk Industry_group_name  \n",
       "0       farming                  1         Agriculture  \n",
       "1      ranching                  1         Agriculture  "
      ]
     },
     "execution_count": 6,
     "metadata": {},
     "output_type": "execute_result"
    }
   ],
   "source": [
    "mapping.head(2)"
   ]
  },
  {
   "cell_type": "code",
   "execution_count": null,
   "id": "1d31566e",
   "metadata": {},
   "outputs": [],
   "source": []
  },
  {
   "cell_type": "code",
   "execution_count": null,
   "id": "c1770976",
   "metadata": {},
   "outputs": [],
   "source": []
  },
  {
   "cell_type": "code",
   "execution_count": null,
   "id": "7ddbf2e3",
   "metadata": {},
   "outputs": [],
   "source": []
  },
  {
   "cell_type": "code",
   "execution_count": null,
   "id": "1db81748",
   "metadata": {},
   "outputs": [],
   "source": []
  },
  {
   "cell_type": "code",
   "execution_count": null,
   "id": "8cca67cc",
   "metadata": {},
   "outputs": [],
   "source": []
  },
  {
   "cell_type": "code",
   "execution_count": null,
   "id": "d50e37cb",
   "metadata": {},
   "outputs": [],
   "source": []
  },
  {
   "cell_type": "markdown",
   "id": "03b176e8",
   "metadata": {},
   "source": [
    "# Analysis"
   ]
  },
  {
   "cell_type": "code",
   "execution_count": null,
   "id": "f74ba80b",
   "metadata": {},
   "outputs": [],
   "source": []
  }
 ],
 "metadata": {
  "kernelspec": {
   "display_name": "ironhack",
   "language": "python",
   "name": "ironhack"
  },
  "language_info": {
   "codemirror_mode": {
    "name": "ipython",
    "version": 3
   },
   "file_extension": ".py",
   "mimetype": "text/x-python",
   "name": "python",
   "nbconvert_exporter": "python",
   "pygments_lexer": "ipython3",
   "version": "3.8.5"
  }
 },
 "nbformat": 4,
 "nbformat_minor": 5
}
