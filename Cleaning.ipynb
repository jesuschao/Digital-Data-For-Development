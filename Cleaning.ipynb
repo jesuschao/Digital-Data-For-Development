{
 "cells": [
  {
   "cell_type": "code",
   "execution_count": null,
   "id": "2eb02bff",
   "metadata": {},
   "outputs": [],
   "source": []
  },
  {
   "cell_type": "markdown",
   "id": "d023a160",
   "metadata": {},
   "source": [
    "## Import Libraries"
   ]
  },
  {
   "cell_type": "code",
   "execution_count": 2,
   "id": "f106f923",
   "metadata": {},
   "outputs": [],
   "source": [
    "import pandas as pd"
   ]
  },
  {
   "cell_type": "code",
   "execution_count": null,
   "id": "f4e26feb",
   "metadata": {},
   "outputs": [],
   "source": []
  },
  {
   "cell_type": "markdown",
   "id": "72d9ee6c",
   "metadata": {},
   "source": [
    "## Import kaggle dataset"
   ]
  },
  {
   "cell_type": "code",
   "execution_count": 100,
   "id": "d28d4db3",
   "metadata": {},
   "outputs": [],
   "source": [
    "mapping = pd.read_csv(\"data/linkedin_to_isic_rev_4_industry_mapping_0.csv\")"
   ]
  },
  {
   "cell_type": "code",
   "execution_count": 101,
   "id": "d32454cf",
   "metadata": {},
   "outputs": [],
   "source": [
    "employment = pd.read_excel(\"data/public_use-industry-employment-growth.xlsx\")"
   ]
  },
  {
   "cell_type": "code",
   "execution_count": 102,
   "id": "ee82e50d",
   "metadata": {},
   "outputs": [],
   "source": [
    "skills_needs = pd.read_excel(\"data/public_use-industry-skills-needs.xlsx\")"
   ]
  },
  {
   "cell_type": "code",
   "execution_count": 103,
   "id": "b0e1438a",
   "metadata": {},
   "outputs": [],
   "source": [
    "skill_penetration = pd.read_excel(\"data/public_use-skill-penetration.xlsx\")"
   ]
  },
  {
   "cell_type": "code",
   "execution_count": 107,
   "id": "2f7cfc29",
   "metadata": {},
   "outputs": [],
   "source": [
    "country_migration = pd.read_excel(\"data/talent_migration/country_migration.xlsx\")"
   ]
  },
  {
   "cell_type": "code",
   "execution_count": 108,
   "id": "ee455c79",
   "metadata": {},
   "outputs": [],
   "source": [
    "industry_migration = pd.read_excel(\"data/talent_migration/industry_migration.xlsx\")"
   ]
  },
  {
   "cell_type": "code",
   "execution_count": 109,
   "id": "c8b9ff72",
   "metadata": {},
   "outputs": [],
   "source": [
    "skill_migration = pd.read_excel(\"data/talent_migration/skill_migration.xlsx\")"
   ]
  },
  {
   "cell_type": "markdown",
   "id": "bcd955d6",
   "metadata": {},
   "source": [
    "## Evaluation of data"
   ]
  },
  {
   "cell_type": "markdown",
   "id": "616ae276",
   "metadata": {},
   "source": [
    "### Industry mapping"
   ]
  },
  {
   "cell_type": "code",
   "execution_count": 17,
   "id": "fbdc1038",
   "metadata": {},
   "outputs": [
    {
     "data": {
      "text/html": [
       "<div>\n",
       "<style scoped>\n",
       "    .dataframe tbody tr th:only-of-type {\n",
       "        vertical-align: middle;\n",
       "    }\n",
       "\n",
       "    .dataframe tbody tr th {\n",
       "        vertical-align: top;\n",
       "    }\n",
       "\n",
       "    .dataframe thead th {\n",
       "        text-align: right;\n",
       "    }\n",
       "</style>\n",
       "<table border=\"1\" class=\"dataframe\">\n",
       "  <thead>\n",
       "    <tr style=\"text-align: right;\">\n",
       "      <th></th>\n",
       "      <th>isic_section</th>\n",
       "      <th>isic_section_name</th>\n",
       "      <th>isic_division</th>\n",
       "      <th>isic_division_name</th>\n",
       "      <th>industry_sk</th>\n",
       "      <th>industry_name</th>\n",
       "      <th>Industry_group_sk</th>\n",
       "      <th>Industry_group_name</th>\n",
       "    </tr>\n",
       "  </thead>\n",
       "  <tbody>\n",
       "    <tr>\n",
       "      <th>0</th>\n",
       "      <td>A</td>\n",
       "      <td>A. Agriculture; forestry and fishing</td>\n",
       "      <td>1</td>\n",
       "      <td>Crop and animal production, hunting and relate...</td>\n",
       "      <td>63</td>\n",
       "      <td>farming</td>\n",
       "      <td>1</td>\n",
       "      <td>Agriculture</td>\n",
       "    </tr>\n",
       "    <tr>\n",
       "      <th>1</th>\n",
       "      <td>A</td>\n",
       "      <td>A. Agriculture; forestry and fishing</td>\n",
       "      <td>1</td>\n",
       "      <td>Crop and animal production, hunting and relate...</td>\n",
       "      <td>64</td>\n",
       "      <td>ranching</td>\n",
       "      <td>1</td>\n",
       "      <td>Agriculture</td>\n",
       "    </tr>\n",
       "    <tr>\n",
       "      <th>2</th>\n",
       "      <td>A</td>\n",
       "      <td>A. Agriculture; forestry and fishing</td>\n",
       "      <td>1</td>\n",
       "      <td>Crop and animal production, hunting and relate...</td>\n",
       "      <td>65</td>\n",
       "      <td>dairy</td>\n",
       "      <td>1</td>\n",
       "      <td>Agriculture</td>\n",
       "    </tr>\n",
       "    <tr>\n",
       "      <th>3</th>\n",
       "      <td>A</td>\n",
       "      <td>A. Agriculture; forestry and fishing</td>\n",
       "      <td>3</td>\n",
       "      <td>Fishing and aquaculture</td>\n",
       "      <td>66</td>\n",
       "      <td>fishery</td>\n",
       "      <td>1</td>\n",
       "      <td>Agriculture</td>\n",
       "    </tr>\n",
       "    <tr>\n",
       "      <th>4</th>\n",
       "      <td>B</td>\n",
       "      <td>B. Mining and quarrying</td>\n",
       "      <td>5</td>\n",
       "      <td>Mining of coal and lignite</td>\n",
       "      <td>56</td>\n",
       "      <td>mining &amp; metals</td>\n",
       "      <td>16</td>\n",
       "      <td>Energy and Mining</td>\n",
       "    </tr>\n",
       "  </tbody>\n",
       "</table>\n",
       "</div>"
      ],
      "text/plain": [
       "  isic_section                      isic_section_name  isic_division  \\\n",
       "0            A   A. Agriculture; forestry and fishing              1   \n",
       "1            A   A. Agriculture; forestry and fishing              1   \n",
       "2            A   A. Agriculture; forestry and fishing              1   \n",
       "3            A   A. Agriculture; forestry and fishing              3   \n",
       "4            B                B. Mining and quarrying              5   \n",
       "\n",
       "                                  isic_division_name  industry_sk  \\\n",
       "0  Crop and animal production, hunting and relate...           63   \n",
       "1  Crop and animal production, hunting and relate...           64   \n",
       "2  Crop and animal production, hunting and relate...           65   \n",
       "3                            Fishing and aquaculture           66   \n",
       "4                         Mining of coal and lignite           56   \n",
       "\n",
       "     industry_name  Industry_group_sk Industry_group_name  \n",
       "0          farming                  1         Agriculture  \n",
       "1         ranching                  1         Agriculture  \n",
       "2            dairy                  1         Agriculture  \n",
       "3          fishery                  1         Agriculture  \n",
       "4  mining & metals                 16   Energy and Mining  "
      ]
     },
     "execution_count": 17,
     "metadata": {},
     "output_type": "execute_result"
    }
   ],
   "source": [
    "mapping.head()"
   ]
  },
  {
   "cell_type": "code",
   "execution_count": 20,
   "id": "8f9ad93c",
   "metadata": {},
   "outputs": [
    {
     "data": {
      "text/plain": [
       "(148, 8)"
      ]
     },
     "execution_count": 20,
     "metadata": {},
     "output_type": "execute_result"
    }
   ],
   "source": [
    "mapping.shape"
   ]
  },
  {
   "cell_type": "code",
   "execution_count": 1,
   "id": "a5f5dca0",
   "metadata": {},
   "outputs": [
    {
     "ename": "NameError",
     "evalue": "name 'mapping' is not defined",
     "output_type": "error",
     "traceback": [
      "\u001b[0;31m---------------------------------------------------------------------------\u001b[0m",
      "\u001b[0;31mNameError\u001b[0m                                 Traceback (most recent call last)",
      "\u001b[0;32m<ipython-input-1-53c24672cd5b>\u001b[0m in \u001b[0;36m<module>\u001b[0;34m\u001b[0m\n\u001b[0;32m----> 1\u001b[0;31m \u001b[0mindustry_sk\u001b[0m \u001b[0;34m=\u001b[0m \u001b[0mlist\u001b[0m\u001b[0;34m(\u001b[0m\u001b[0mmapping\u001b[0m\u001b[0;34m.\u001b[0m\u001b[0mindustry_sk\u001b[0m\u001b[0;34m.\u001b[0m\u001b[0munique\u001b[0m\u001b[0;34m(\u001b[0m\u001b[0;34m)\u001b[0m\u001b[0;34m)\u001b[0m\u001b[0;34m\u001b[0m\u001b[0;34m\u001b[0m\u001b[0m\n\u001b[0m\u001b[1;32m      2\u001b[0m \u001b[0mlen\u001b[0m\u001b[0;34m(\u001b[0m\u001b[0mindustry_sk\u001b[0m\u001b[0;34m)\u001b[0m\u001b[0;34m\u001b[0m\u001b[0;34m\u001b[0m\u001b[0m\n",
      "\u001b[0;31mNameError\u001b[0m: name 'mapping' is not defined"
     ]
    }
   ],
   "source": [
    "industry_sk = list(mapping.industry_sk.unique())\n",
    "len(industry_sk)"
   ]
  },
  {
   "cell_type": "code",
   "execution_count": 19,
   "id": "55cd8a03",
   "metadata": {},
   "outputs": [
    {
     "data": {
      "text/html": [
       "<div>\n",
       "<style scoped>\n",
       "    .dataframe tbody tr th:only-of-type {\n",
       "        vertical-align: middle;\n",
       "    }\n",
       "\n",
       "    .dataframe tbody tr th {\n",
       "        vertical-align: top;\n",
       "    }\n",
       "\n",
       "    .dataframe thead th {\n",
       "        text-align: right;\n",
       "    }\n",
       "</style>\n",
       "<table border=\"1\" class=\"dataframe\">\n",
       "  <thead>\n",
       "    <tr style=\"text-align: right;\">\n",
       "      <th></th>\n",
       "      <th>isic_division</th>\n",
       "      <th>industry_sk</th>\n",
       "      <th>Industry_group_sk</th>\n",
       "    </tr>\n",
       "  </thead>\n",
       "  <tbody>\n",
       "    <tr>\n",
       "      <th>count</th>\n",
       "      <td>148.000000</td>\n",
       "      <td>148.000000</td>\n",
       "      <td>148.000000</td>\n",
       "    </tr>\n",
       "    <tr>\n",
       "      <th>mean</th>\n",
       "      <td>59.351351</td>\n",
       "      <td>74.432432</td>\n",
       "      <td>11.135135</td>\n",
       "    </tr>\n",
       "    <tr>\n",
       "      <th>std</th>\n",
       "      <td>26.277655</td>\n",
       "      <td>42.992352</td>\n",
       "      <td>6.205822</td>\n",
       "    </tr>\n",
       "    <tr>\n",
       "      <th>min</th>\n",
       "      <td>-9.000000</td>\n",
       "      <td>-9.000000</td>\n",
       "      <td>-9.000000</td>\n",
       "    </tr>\n",
       "    <tr>\n",
       "      <th>25%</th>\n",
       "      <td>47.000000</td>\n",
       "      <td>37.750000</td>\n",
       "      <td>6.000000</td>\n",
       "    </tr>\n",
       "    <tr>\n",
       "      <th>50%</th>\n",
       "      <td>64.000000</td>\n",
       "      <td>74.500000</td>\n",
       "      <td>11.000000</td>\n",
       "    </tr>\n",
       "    <tr>\n",
       "      <th>75%</th>\n",
       "      <td>81.250000</td>\n",
       "      <td>111.250000</td>\n",
       "      <td>15.000000</td>\n",
       "    </tr>\n",
       "    <tr>\n",
       "      <th>max</th>\n",
       "      <td>96.000000</td>\n",
       "      <td>148.000000</td>\n",
       "      <td>24.000000</td>\n",
       "    </tr>\n",
       "  </tbody>\n",
       "</table>\n",
       "</div>"
      ],
      "text/plain": [
       "       isic_division  industry_sk  Industry_group_sk\n",
       "count     148.000000   148.000000         148.000000\n",
       "mean       59.351351    74.432432          11.135135\n",
       "std        26.277655    42.992352           6.205822\n",
       "min        -9.000000    -9.000000          -9.000000\n",
       "25%        47.000000    37.750000           6.000000\n",
       "50%        64.000000    74.500000          11.000000\n",
       "75%        81.250000   111.250000          15.000000\n",
       "max        96.000000   148.000000          24.000000"
      ]
     },
     "execution_count": 19,
     "metadata": {},
     "output_type": "execute_result"
    }
   ],
   "source": [
    "mapping.describe()"
   ]
  },
  {
   "cell_type": "code",
   "execution_count": 23,
   "id": "2ba28a5a",
   "metadata": {},
   "outputs": [
    {
     "name": "stdout",
     "output_type": "stream",
     "text": [
      "<class 'pandas.core.frame.DataFrame'>\n",
      "RangeIndex: 148 entries, 0 to 147\n",
      "Data columns (total 8 columns):\n",
      " #   Column               Non-Null Count  Dtype \n",
      "---  ------               --------------  ----- \n",
      " 0   isic_section         148 non-null    object\n",
      " 1   isic_section_name    148 non-null    object\n",
      " 2   isic_division        148 non-null    int64 \n",
      " 3   isic_division_name   148 non-null    object\n",
      " 4   industry_sk          148 non-null    int64 \n",
      " 5   industry_name        148 non-null    object\n",
      " 6   Industry_group_sk    148 non-null    int64 \n",
      " 7   Industry_group_name  148 non-null    object\n",
      "dtypes: int64(3), object(5)\n",
      "memory usage: 9.4+ KB\n"
     ]
    }
   ],
   "source": [
    "mapping.info()"
   ]
  },
  {
   "cell_type": "code",
   "execution_count": 34,
   "id": "5cdbce73",
   "metadata": {},
   "outputs": [
    {
     "data": {
      "text/plain": [
       "isic_section           0\n",
       "isic_section_name      0\n",
       "isic_division          0\n",
       "isic_division_name     0\n",
       "industry_sk            0\n",
       "industry_name          0\n",
       "Industry_group_sk      0\n",
       "Industry_group_name    0\n",
       "dtype: int64"
      ]
     },
     "execution_count": 34,
     "metadata": {},
     "output_type": "execute_result"
    }
   ],
   "source": [
    "mapping.isnull().sum()"
   ]
  },
  {
   "cell_type": "markdown",
   "id": "837038b3",
   "metadata": {},
   "source": [
    "#### Section columns"
   ]
  },
  {
   "cell_type": "code",
   "execution_count": 24,
   "id": "393a3353",
   "metadata": {},
   "outputs": [
    {
     "data": {
      "text/plain": [
       "array([' A. Agriculture; forestry and fishing',\n",
       "       ' B. Mining and quarrying', ' C. Manufacturing',\n",
       "       ' D. Electricity; gas, steam and air conditioning supply',\n",
       "       ' F. Construction',\n",
       "       ' G. Wholesale and retail trade; repair of motor vehicles and motorcycles',\n",
       "       ' H. Transportation and storage',\n",
       "       ' I. Accommodation and food service activities',\n",
       "       ' J. Information and communication',\n",
       "       ' K. Financial and insurance activities',\n",
       "       ' L. Real estate activities',\n",
       "       ' M. Professional, scientific and technical activities',\n",
       "       ' N. Administrative and support service activities',\n",
       "       ' O. Public administration and defence; compulsory social security',\n",
       "       ' P. Education', ' Q. Human health and social work activities',\n",
       "       ' R. Arts, entertainment and recreation',\n",
       "       ' S. Other service activities', ' X. Not elsewhere classified'],\n",
       "      dtype=object)"
      ]
     },
     "execution_count": 24,
     "metadata": {},
     "output_type": "execute_result"
    }
   ],
   "source": [
    "mapping.isic_section_name.unique()"
   ]
  },
  {
   "cell_type": "code",
   "execution_count": 36,
   "id": "bcae2ad5",
   "metadata": {},
   "outputs": [
    {
     "data": {
      "text/plain": [
       "19"
      ]
     },
     "execution_count": 36,
     "metadata": {},
     "output_type": "execute_result"
    }
   ],
   "source": [
    "section_name=list(mapping.isic_section_name.unique())\n",
    "len(section_name)"
   ]
  },
  {
   "cell_type": "code",
   "execution_count": 37,
   "id": "4afa3fae",
   "metadata": {},
   "outputs": [
    {
     "data": {
      "text/plain": [
       "19"
      ]
     },
     "execution_count": 37,
     "metadata": {},
     "output_type": "execute_result"
    }
   ],
   "source": [
    "section=list(mapping.isic_section.unique())\n",
    "len(section)"
   ]
  },
  {
   "cell_type": "code",
   "execution_count": 29,
   "id": "6cfd3f95",
   "metadata": {},
   "outputs": [
    {
     "data": {
      "text/plain": [
       " M. Professional, scientific and technical activities                       24\n",
       " C. Manufacturing                                                           18\n",
       " J. Information and communication                                           17\n",
       " G. Wholesale and retail trade; repair of motor vehicles and motorcycles    14\n",
       " R. Arts, entertainment and recreation                                      11\n",
       " O. Public administration and defence; compulsory social security           10\n",
       " N. Administrative and support service activities                            8\n",
       " K. Financial and insurance activities                                       7\n",
       " H. Transportation and storage                                               7\n",
       " S. Other service activities                                                 5\n",
       " Q. Human health and social work activities                                  5\n",
       " P. Education                                                                4\n",
       " A. Agriculture; forestry and fishing                                        4\n",
       " X. Not elsewhere classified                                                 4\n",
       " F. Construction                                                             3\n",
       " L. Real estate activities                                                   2\n",
       " B. Mining and quarrying                                                     2\n",
       " I. Accommodation and food service activities                                2\n",
       " D. Electricity; gas, steam and air conditioning supply                      1\n",
       "Name: isic_section_name, dtype: int64"
      ]
     },
     "execution_count": 29,
     "metadata": {},
     "output_type": "execute_result"
    }
   ],
   "source": [
    "mapping.isic_section_name.value_counts()"
   ]
  },
  {
   "cell_type": "markdown",
   "id": "47db46e5",
   "metadata": {},
   "source": [
    "#### Division columns"
   ]
  },
  {
   "cell_type": "code",
   "execution_count": 32,
   "id": "f6d3cfdf",
   "metadata": {},
   "outputs": [
    {
     "data": {
      "text/plain": [
       "61"
      ]
     },
     "execution_count": 32,
     "metadata": {},
     "output_type": "execute_result"
    }
   ],
   "source": [
    "division_name=list(mapping.isic_division_name.unique())\n",
    "len(division_name)"
   ]
  },
  {
   "cell_type": "code",
   "execution_count": 52,
   "id": "7e12176f",
   "metadata": {},
   "outputs": [
    {
     "data": {
      "text/plain": [
       "['Crop and animal production, hunting and related service activities',\n",
       " 'Fishing and aquaculture',\n",
       " 'Mining of coal and lignite',\n",
       " 'Extraction of crude petroleum and natural gas',\n",
       " 'Manufacture of fabricated metal products, except machinery and equip',\n",
       " 'Manufacture of pharmaceuticals, medicinal chemical and botanical products',\n",
       " 'Manufacture of food products',\n",
       " 'Manufacture of other transport equipment',\n",
       " 'Manufacture of motor vehicles, trailers and semi-trailers',\n",
       " 'Manufacture of chemicals and chemical products',\n",
       " 'Manufacture of machinery and equipment n.e.c.',\n",
       " 'Manufacture of textiles',\n",
       " 'Manufacture of paper and paper products',\n",
       " 'Printing and reproduction of recorded media',\n",
       " 'Manufacture of computer, electronic and optical products',\n",
       " 'Manufacture of rubber and plastics products',\n",
       " 'Other manufacturing',\n",
       " 'electricity; gas, steam and air conditioning supply',\n",
       " 'Construction of buildings',\n",
       " 'Not_mapped',\n",
       " 'Civil engineering',\n",
       " 'Retail trade, except of motor vehicles and motorcycles',\n",
       " 'Wholesale trade, except of motor vehicles and motorcycles',\n",
       " 'Postal and courier activities',\n",
       " 'Land transport and transport via pipelines',\n",
       " 'Warehousing and support activities for transportation',\n",
       " 'Air transport',\n",
       " 'Water transport',\n",
       " 'Accommodation',\n",
       " 'Food and services activities',\n",
       " 'Computer programming, consultancy and related activities',\n",
       " 'Telecommunications',\n",
       " 'Motion picture, video and television programme production, sound recording',\n",
       " 'Programming and broadcasting activities',\n",
       " 'Publishing activities',\n",
       " 'Information service activities',\n",
       " 'Financial service activities, except insurance and pension funding',\n",
       " 'Insurance, reinsurance and pension funding, except compulsory social',\n",
       " 'Activities auxiliary to financial service and insurance activities',\n",
       " 'Real estate activities',\n",
       " 'Legal and accounting activities',\n",
       " 'Activities of head offices; management consultancy activities',\n",
       " 'Scientific research and development',\n",
       " 'Veterinary activities',\n",
       " 'Architectural and engineering activities; technical testing and analysis',\n",
       " 'Advertising and market research',\n",
       " 'Other professional, scientific and technical activities',\n",
       " 'Travel agency, tour operator, reservation service and related activities',\n",
       " 'Services to buildings and landscape activities',\n",
       " 'Office administrative, office support and other business support activities',\n",
       " 'Employment activities',\n",
       " 'Security and investigation activities',\n",
       " 'Public administration and defence; compulsory social security',\n",
       " ' Education',\n",
       " 'Human health activities',\n",
       " 'Creative, arts and entertainment activities',\n",
       " 'Gambling and betting activities',\n",
       " 'Sports activities and amusement and recreation activities',\n",
       " 'Libraries, archives, museums and other cultural activities',\n",
       " 'Other personal service activities',\n",
       " 'Activities of professional membership organizations']"
      ]
     },
     "execution_count": 52,
     "metadata": {},
     "output_type": "execute_result"
    }
   ],
   "source": [
    "division_name"
   ]
  },
  {
   "cell_type": "code",
   "execution_count": 38,
   "id": "8ed3de77",
   "metadata": {},
   "outputs": [
    {
     "data": {
      "text/plain": [
       "62"
      ]
     },
     "execution_count": 38,
     "metadata": {},
     "output_type": "execute_result"
    }
   ],
   "source": [
    "division=list(mapping.isic_division.unique())\n",
    "len(division)"
   ]
  },
  {
   "cell_type": "code",
   "execution_count": 41,
   "id": "ebf5d152",
   "metadata": {},
   "outputs": [
    {
     "data": {
      "text/plain": [
       "[1,\n",
       " 3,\n",
       " 5,\n",
       " 6,\n",
       " 25,\n",
       " 21,\n",
       " 10,\n",
       " 30,\n",
       " 29,\n",
       " 20,\n",
       " 28,\n",
       " 13,\n",
       " 17,\n",
       " 18,\n",
       " 26,\n",
       " 22,\n",
       " 32,\n",
       " 35,\n",
       " 41,\n",
       " 43,\n",
       " 42,\n",
       " 47,\n",
       " 46,\n",
       " 53,\n",
       " 49,\n",
       " 52,\n",
       " 51,\n",
       " 50,\n",
       " 55,\n",
       " 56,\n",
       " 62,\n",
       " 61,\n",
       " 59,\n",
       " 60,\n",
       " 58,\n",
       " 63,\n",
       " 64,\n",
       " 65,\n",
       " 66,\n",
       " 68,\n",
       " 69,\n",
       " 70,\n",
       " 72,\n",
       " 75,\n",
       " 71,\n",
       " 73,\n",
       " 74,\n",
       " 79,\n",
       " 81,\n",
       " 82,\n",
       " 78,\n",
       " 80,\n",
       " 84,\n",
       " 85,\n",
       " 86,\n",
       " 90,\n",
       " 92,\n",
       " 93,\n",
       " 91,\n",
       " 96,\n",
       " 94,\n",
       " -9]"
      ]
     },
     "execution_count": 41,
     "metadata": {},
     "output_type": "execute_result"
    }
   ],
   "source": [
    "mapping"
   ]
  },
  {
   "cell_type": "code",
   "execution_count": 50,
   "id": "818005d8",
   "metadata": {},
   "outputs": [],
   "source": [
    "filtrado = mapping.loc[mapping[\"isic_division\"] == -9]"
   ]
  },
  {
   "cell_type": "code",
   "execution_count": 51,
   "id": "15bdf03c",
   "metadata": {},
   "outputs": [
    {
     "data": {
      "text/html": [
       "<div>\n",
       "<style scoped>\n",
       "    .dataframe tbody tr th:only-of-type {\n",
       "        vertical-align: middle;\n",
       "    }\n",
       "\n",
       "    .dataframe tbody tr th {\n",
       "        vertical-align: top;\n",
       "    }\n",
       "\n",
       "    .dataframe thead th {\n",
       "        text-align: right;\n",
       "    }\n",
       "</style>\n",
       "<table border=\"1\" class=\"dataframe\">\n",
       "  <thead>\n",
       "    <tr style=\"text-align: right;\">\n",
       "      <th></th>\n",
       "      <th>isic_section</th>\n",
       "      <th>isic_section_name</th>\n",
       "      <th>isic_division</th>\n",
       "      <th>isic_division_name</th>\n",
       "      <th>industry_sk</th>\n",
       "      <th>industry_name</th>\n",
       "      <th>Industry_group_sk</th>\n",
       "      <th>Industry_group_name</th>\n",
       "    </tr>\n",
       "  </thead>\n",
       "  <tbody>\n",
       "    <tr>\n",
       "      <th>144</th>\n",
       "      <td>X</td>\n",
       "      <td>X. Not elsewhere classified</td>\n",
       "      <td>-9</td>\n",
       "      <td>Not_mapped</td>\n",
       "      <td>-9</td>\n",
       "      <td>Unknown</td>\n",
       "      <td>-9</td>\n",
       "      <td>ERR</td>\n",
       "    </tr>\n",
       "    <tr>\n",
       "      <th>145</th>\n",
       "      <td>X</td>\n",
       "      <td>X. Not elsewhere classified</td>\n",
       "      <td>-9</td>\n",
       "      <td>Not_mapped</td>\n",
       "      <td>102</td>\n",
       "      <td>program development</td>\n",
       "      <td>13</td>\n",
       "      <td>Nonprofit</td>\n",
       "    </tr>\n",
       "    <tr>\n",
       "      <th>146</th>\n",
       "      <td>X</td>\n",
       "      <td>X. Not elsewhere classified</td>\n",
       "      <td>-9</td>\n",
       "      <td>Not_mapped</td>\n",
       "      <td>130</td>\n",
       "      <td>think tanks</td>\n",
       "      <td>13</td>\n",
       "      <td>Nonprofit</td>\n",
       "    </tr>\n",
       "    <tr>\n",
       "      <th>147</th>\n",
       "      <td>X</td>\n",
       "      <td>X. Not elsewhere classified</td>\n",
       "      <td>-9</td>\n",
       "      <td>Not_mapped</td>\n",
       "      <td>131</td>\n",
       "      <td>philanthropy</td>\n",
       "      <td>13</td>\n",
       "      <td>Nonprofit</td>\n",
       "    </tr>\n",
       "  </tbody>\n",
       "</table>\n",
       "</div>"
      ],
      "text/plain": [
       "    isic_section             isic_section_name  isic_division  \\\n",
       "144            X   X. Not elsewhere classified             -9   \n",
       "145            X   X. Not elsewhere classified             -9   \n",
       "146            X   X. Not elsewhere classified             -9   \n",
       "147            X   X. Not elsewhere classified             -9   \n",
       "\n",
       "    isic_division_name  industry_sk        industry_name  Industry_group_sk  \\\n",
       "144         Not_mapped           -9              Unknown                 -9   \n",
       "145         Not_mapped          102  program development                 13   \n",
       "146         Not_mapped          130          think tanks                 13   \n",
       "147         Not_mapped          131         philanthropy                 13   \n",
       "\n",
       "    Industry_group_name  \n",
       "144                 ERR  \n",
       "145           Nonprofit  \n",
       "146           Nonprofit  \n",
       "147           Nonprofit  "
      ]
     },
     "execution_count": 51,
     "metadata": {},
     "output_type": "execute_result"
    }
   ],
   "source": [
    "filtrado"
   ]
  },
  {
   "cell_type": "code",
   "execution_count": 40,
   "id": "681abccb",
   "metadata": {},
   "outputs": [
    {
     "data": {
      "text/plain": [
       "['Crop and animal production, hunting and related service activities',\n",
       " 'Fishing and aquaculture',\n",
       " 'Mining of coal and lignite',\n",
       " 'Extraction of crude petroleum and natural gas',\n",
       " 'Manufacture of fabricated metal products, except machinery and equip',\n",
       " 'Manufacture of pharmaceuticals, medicinal chemical and botanical products',\n",
       " 'Manufacture of food products',\n",
       " 'Manufacture of other transport equipment',\n",
       " 'Manufacture of motor vehicles, trailers and semi-trailers',\n",
       " 'Manufacture of chemicals and chemical products']"
      ]
     },
     "execution_count": 40,
     "metadata": {},
     "output_type": "execute_result"
    }
   ],
   "source": [
    "division_name[0:10]"
   ]
  },
  {
   "cell_type": "markdown",
   "id": "418a2743",
   "metadata": {},
   "source": [
    "#### Industry columns"
   ]
  },
  {
   "cell_type": "code",
   "execution_count": 55,
   "id": "70c2a605",
   "metadata": {},
   "outputs": [
    {
     "data": {
      "text/plain": [
       "148"
      ]
     },
     "execution_count": 55,
     "metadata": {},
     "output_type": "execute_result"
    }
   ],
   "source": [
    "industry_name=list(mapping.industry_name.unique())\n",
    "len(industry_name)"
   ]
  },
  {
   "cell_type": "code",
   "execution_count": 56,
   "id": "5263da22",
   "metadata": {},
   "outputs": [
    {
     "data": {
      "text/plain": [
       "148"
      ]
     },
     "execution_count": 56,
     "metadata": {},
     "output_type": "execute_result"
    }
   ],
   "source": [
    "industry_sk=list(mapping.industry_sk.unique())\n",
    "len(industry_sk)"
   ]
  },
  {
   "cell_type": "code",
   "execution_count": 60,
   "id": "fcf9a9bb",
   "metadata": {},
   "outputs": [
    {
     "data": {
      "text/plain": [
       "28"
      ]
     },
     "execution_count": 60,
     "metadata": {},
     "output_type": "execute_result"
    }
   ],
   "source": [
    "industry_group_name=list(mapping.Industry_group_name.unique())\n",
    "len(industry_group_name)"
   ]
  },
  {
   "cell_type": "code",
   "execution_count": 61,
   "id": "9fe89d16",
   "metadata": {},
   "outputs": [
    {
     "name": "stdout",
     "output_type": "stream",
     "text": [
      "['Agriculture', 'Energy and Mining', 'Manufacturing', 'Healthcare', 'Media & Communications', 'Construction', 'Consumer goods', 'Retail', 'Transportation & Logistics', 'Recreation and Travel', 'Hardware & Netwoking', 'Software & IT Services', 'Entertainment', 'Finance', 'Real estate ', 'Legal', 'Corporate Services', ' Healthcare', 'Design', 'Education', 'Hardware & Networking', 'Art', 'Nonprofit', 'Public safety', 'Public Administration', 'Wellness and Fitness', 'Wellness & Fitness', 'ERR']\n"
     ]
    }
   ],
   "source": [
    "print(industry_group_name)"
   ]
  },
  {
   "cell_type": "code",
   "execution_count": 62,
   "id": "0f37d060",
   "metadata": {},
   "outputs": [
    {
     "data": {
      "text/plain": [
       "25"
      ]
     },
     "execution_count": 62,
     "metadata": {},
     "output_type": "execute_result"
    }
   ],
   "source": [
    "industry_group_sk=list(mapping.Industry_group_sk.unique())\n",
    "len(industry_group_sk)"
   ]
  },
  {
   "cell_type": "code",
   "execution_count": 64,
   "id": "426fc994",
   "metadata": {},
   "outputs": [
    {
     "name": "stdout",
     "output_type": "stream",
     "text": [
      "[1, 16, 10, 12, 11, 3, 4, 24, 15, 14, 19, 8, 18, 7, 22, 9, 5, 17, 6, 2, 13, 21, 20, 23, -9]\n"
     ]
    }
   ],
   "source": [
    "print(industry_group_sk)"
   ]
  },
  {
   "cell_type": "code",
   "execution_count": 66,
   "id": "95861d7e",
   "metadata": {},
   "outputs": [],
   "source": [
    "filtrado2 = mapping.loc[mapping[\"Industry_group_sk\"] == -9]"
   ]
  },
  {
   "cell_type": "code",
   "execution_count": 67,
   "id": "dc6a3fd6",
   "metadata": {},
   "outputs": [
    {
     "data": {
      "text/html": [
       "<div>\n",
       "<style scoped>\n",
       "    .dataframe tbody tr th:only-of-type {\n",
       "        vertical-align: middle;\n",
       "    }\n",
       "\n",
       "    .dataframe tbody tr th {\n",
       "        vertical-align: top;\n",
       "    }\n",
       "\n",
       "    .dataframe thead th {\n",
       "        text-align: right;\n",
       "    }\n",
       "</style>\n",
       "<table border=\"1\" class=\"dataframe\">\n",
       "  <thead>\n",
       "    <tr style=\"text-align: right;\">\n",
       "      <th></th>\n",
       "      <th>isic_section</th>\n",
       "      <th>isic_section_name</th>\n",
       "      <th>isic_division</th>\n",
       "      <th>isic_division_name</th>\n",
       "      <th>industry_sk</th>\n",
       "      <th>industry_name</th>\n",
       "      <th>Industry_group_sk</th>\n",
       "      <th>Industry_group_name</th>\n",
       "    </tr>\n",
       "  </thead>\n",
       "  <tbody>\n",
       "    <tr>\n",
       "      <th>144</th>\n",
       "      <td>X</td>\n",
       "      <td>X. Not elsewhere classified</td>\n",
       "      <td>-9</td>\n",
       "      <td>Not_mapped</td>\n",
       "      <td>-9</td>\n",
       "      <td>Unknown</td>\n",
       "      <td>-9</td>\n",
       "      <td>ERR</td>\n",
       "    </tr>\n",
       "  </tbody>\n",
       "</table>\n",
       "</div>"
      ],
      "text/plain": [
       "    isic_section             isic_section_name  isic_division  \\\n",
       "144            X   X. Not elsewhere classified             -9   \n",
       "\n",
       "    isic_division_name  industry_sk industry_name  Industry_group_sk  \\\n",
       "144         Not_mapped           -9       Unknown                 -9   \n",
       "\n",
       "    Industry_group_name  \n",
       "144                 ERR  "
      ]
     },
     "execution_count": 67,
     "metadata": {},
     "output_type": "execute_result"
    }
   ],
   "source": [
    "filtrado2"
   ]
  },
  {
   "cell_type": "markdown",
   "id": "9c272fea",
   "metadata": {},
   "source": [
    "### Employment growth"
   ]
  },
  {
   "cell_type": "code",
   "execution_count": 68,
   "id": "b516c6ed",
   "metadata": {},
   "outputs": [
    {
     "data": {
      "text/html": [
       "<div>\n",
       "<style scoped>\n",
       "    .dataframe tbody tr th:only-of-type {\n",
       "        vertical-align: middle;\n",
       "    }\n",
       "\n",
       "    .dataframe tbody tr th {\n",
       "        vertical-align: top;\n",
       "    }\n",
       "\n",
       "    .dataframe thead th {\n",
       "        text-align: right;\n",
       "    }\n",
       "</style>\n",
       "<table border=\"1\" class=\"dataframe\">\n",
       "  <thead>\n",
       "    <tr style=\"text-align: right;\">\n",
       "      <th></th>\n",
       "      <th>country_code</th>\n",
       "      <th>country_name</th>\n",
       "      <th>wb_region</th>\n",
       "      <th>wb_income</th>\n",
       "      <th>isic_section_index</th>\n",
       "      <th>isic_section_name</th>\n",
       "      <th>industry_id</th>\n",
       "      <th>industry_name</th>\n",
       "      <th>growth_rate_2015</th>\n",
       "      <th>growth_rate_2016</th>\n",
       "      <th>growth_rate_2017</th>\n",
       "      <th>growth_rate_2018</th>\n",
       "      <th>growth_rate_2019</th>\n",
       "    </tr>\n",
       "  </thead>\n",
       "  <tbody>\n",
       "    <tr>\n",
       "      <th>0</th>\n",
       "      <td>ae</td>\n",
       "      <td>United Arab Emirates</td>\n",
       "      <td>Middle East &amp; North Africa</td>\n",
       "      <td>High income</td>\n",
       "      <td>B</td>\n",
       "      <td>Mining and quarrying</td>\n",
       "      <td>56</td>\n",
       "      <td>Mining &amp; Metals</td>\n",
       "      <td>0.078000</td>\n",
       "      <td>0.058550</td>\n",
       "      <td>0.043402</td>\n",
       "      <td>0.010048</td>\n",
       "      <td>-0.000621</td>\n",
       "    </tr>\n",
       "    <tr>\n",
       "      <th>1</th>\n",
       "      <td>ae</td>\n",
       "      <td>United Arab Emirates</td>\n",
       "      <td>Middle East &amp; North Africa</td>\n",
       "      <td>High income</td>\n",
       "      <td>B</td>\n",
       "      <td>Mining and quarrying</td>\n",
       "      <td>57</td>\n",
       "      <td>Oil &amp; Energy</td>\n",
       "      <td>0.033015</td>\n",
       "      <td>0.013479</td>\n",
       "      <td>0.017459</td>\n",
       "      <td>0.018514</td>\n",
       "      <td>0.022606</td>\n",
       "    </tr>\n",
       "    <tr>\n",
       "      <th>2</th>\n",
       "      <td>ae</td>\n",
       "      <td>United Arab Emirates</td>\n",
       "      <td>Middle East &amp; North Africa</td>\n",
       "      <td>High income</td>\n",
       "      <td>C</td>\n",
       "      <td>Manufacturing</td>\n",
       "      <td>15</td>\n",
       "      <td>Pharmaceuticals</td>\n",
       "      <td>0.171367</td>\n",
       "      <td>0.136986</td>\n",
       "      <td>0.090631</td>\n",
       "      <td>0.048148</td>\n",
       "      <td>0.028423</td>\n",
       "    </tr>\n",
       "    <tr>\n",
       "      <th>3</th>\n",
       "      <td>ae</td>\n",
       "      <td>United Arab Emirates</td>\n",
       "      <td>Middle East &amp; North Africa</td>\n",
       "      <td>High income</td>\n",
       "      <td>C</td>\n",
       "      <td>Manufacturing</td>\n",
       "      <td>23</td>\n",
       "      <td>Food Production</td>\n",
       "      <td>0.063351</td>\n",
       "      <td>0.038647</td>\n",
       "      <td>0.022137</td>\n",
       "      <td>0.005990</td>\n",
       "      <td>0.004317</td>\n",
       "    </tr>\n",
       "    <tr>\n",
       "      <th>4</th>\n",
       "      <td>ae</td>\n",
       "      <td>United Arab Emirates</td>\n",
       "      <td>Middle East &amp; North Africa</td>\n",
       "      <td>High income</td>\n",
       "      <td>C</td>\n",
       "      <td>Manufacturing</td>\n",
       "      <td>52</td>\n",
       "      <td>Aviation &amp; Aerospace</td>\n",
       "      <td>0.096607</td>\n",
       "      <td>0.056744</td>\n",
       "      <td>0.028673</td>\n",
       "      <td>0.015048</td>\n",
       "      <td>0.000816</td>\n",
       "    </tr>\n",
       "  </tbody>\n",
       "</table>\n",
       "</div>"
      ],
      "text/plain": [
       "  country_code          country_name                   wb_region    wb_income  \\\n",
       "0           ae  United Arab Emirates  Middle East & North Africa  High income   \n",
       "1           ae  United Arab Emirates  Middle East & North Africa  High income   \n",
       "2           ae  United Arab Emirates  Middle East & North Africa  High income   \n",
       "3           ae  United Arab Emirates  Middle East & North Africa  High income   \n",
       "4           ae  United Arab Emirates  Middle East & North Africa  High income   \n",
       "\n",
       "  isic_section_index     isic_section_name  industry_id         industry_name  \\\n",
       "0                  B  Mining and quarrying           56       Mining & Metals   \n",
       "1                  B  Mining and quarrying           57          Oil & Energy   \n",
       "2                  C         Manufacturing           15       Pharmaceuticals   \n",
       "3                  C         Manufacturing           23       Food Production   \n",
       "4                  C         Manufacturing           52  Aviation & Aerospace   \n",
       "\n",
       "   growth_rate_2015  growth_rate_2016  growth_rate_2017  growth_rate_2018  \\\n",
       "0          0.078000          0.058550          0.043402          0.010048   \n",
       "1          0.033015          0.013479          0.017459          0.018514   \n",
       "2          0.171367          0.136986          0.090631          0.048148   \n",
       "3          0.063351          0.038647          0.022137          0.005990   \n",
       "4          0.096607          0.056744          0.028673          0.015048   \n",
       "\n",
       "   growth_rate_2019  \n",
       "0         -0.000621  \n",
       "1          0.022606  \n",
       "2          0.028423  \n",
       "3          0.004317  \n",
       "4          0.000816  "
      ]
     },
     "execution_count": 68,
     "metadata": {},
     "output_type": "execute_result"
    }
   ],
   "source": [
    "employment.head()"
   ]
  },
  {
   "cell_type": "code",
   "execution_count": 69,
   "id": "ac2c0ae3",
   "metadata": {},
   "outputs": [
    {
     "data": {
      "text/plain": [
       "(7335, 13)"
      ]
     },
     "execution_count": 69,
     "metadata": {},
     "output_type": "execute_result"
    }
   ],
   "source": [
    "employment.shape"
   ]
  },
  {
   "cell_type": "code",
   "execution_count": 71,
   "id": "fcd31169",
   "metadata": {},
   "outputs": [
    {
     "data": {
      "text/html": [
       "<div>\n",
       "<style scoped>\n",
       "    .dataframe tbody tr th:only-of-type {\n",
       "        vertical-align: middle;\n",
       "    }\n",
       "\n",
       "    .dataframe tbody tr th {\n",
       "        vertical-align: top;\n",
       "    }\n",
       "\n",
       "    .dataframe thead th {\n",
       "        text-align: right;\n",
       "    }\n",
       "</style>\n",
       "<table border=\"1\" class=\"dataframe\">\n",
       "  <thead>\n",
       "    <tr style=\"text-align: right;\">\n",
       "      <th></th>\n",
       "      <th>industry_id</th>\n",
       "      <th>growth_rate_2015</th>\n",
       "      <th>growth_rate_2016</th>\n",
       "      <th>growth_rate_2017</th>\n",
       "      <th>growth_rate_2018</th>\n",
       "      <th>growth_rate_2019</th>\n",
       "    </tr>\n",
       "  </thead>\n",
       "  <tbody>\n",
       "    <tr>\n",
       "      <th>count</th>\n",
       "      <td>7335.000000</td>\n",
       "      <td>7335.000000</td>\n",
       "      <td>7335.000000</td>\n",
       "      <td>7335.000000</td>\n",
       "      <td>7335.000000</td>\n",
       "      <td>7335.000000</td>\n",
       "    </tr>\n",
       "    <tr>\n",
       "      <th>mean</th>\n",
       "      <td>70.444853</td>\n",
       "      <td>0.000465</td>\n",
       "      <td>0.001303</td>\n",
       "      <td>0.000662</td>\n",
       "      <td>0.000499</td>\n",
       "      <td>0.000330</td>\n",
       "    </tr>\n",
       "    <tr>\n",
       "      <th>std</th>\n",
       "      <td>43.195772</td>\n",
       "      <td>0.057863</td>\n",
       "      <td>0.051965</td>\n",
       "      <td>0.044719</td>\n",
       "      <td>0.036628</td>\n",
       "      <td>0.027025</td>\n",
       "    </tr>\n",
       "    <tr>\n",
       "      <th>min</th>\n",
       "      <td>3.000000</td>\n",
       "      <td>-0.372654</td>\n",
       "      <td>-0.310484</td>\n",
       "      <td>-0.603328</td>\n",
       "      <td>-0.186667</td>\n",
       "      <td>-0.164179</td>\n",
       "    </tr>\n",
       "    <tr>\n",
       "      <th>25%</th>\n",
       "      <td>37.000000</td>\n",
       "      <td>-0.026549</td>\n",
       "      <td>-0.023920</td>\n",
       "      <td>-0.020628</td>\n",
       "      <td>-0.017104</td>\n",
       "      <td>-0.012658</td>\n",
       "    </tr>\n",
       "    <tr>\n",
       "      <th>50%</th>\n",
       "      <td>61.000000</td>\n",
       "      <td>-0.001190</td>\n",
       "      <td>-0.001036</td>\n",
       "      <td>0.000000</td>\n",
       "      <td>0.000000</td>\n",
       "      <td>-0.000468</td>\n",
       "    </tr>\n",
       "    <tr>\n",
       "      <th>75%</th>\n",
       "      <td>110.000000</td>\n",
       "      <td>0.023056</td>\n",
       "      <td>0.021858</td>\n",
       "      <td>0.018868</td>\n",
       "      <td>0.015649</td>\n",
       "      <td>0.011299</td>\n",
       "    </tr>\n",
       "    <tr>\n",
       "      <th>max</th>\n",
       "      <td>147.000000</td>\n",
       "      <td>1.084507</td>\n",
       "      <td>0.760417</td>\n",
       "      <td>0.459854</td>\n",
       "      <td>0.317073</td>\n",
       "      <td>0.345154</td>\n",
       "    </tr>\n",
       "  </tbody>\n",
       "</table>\n",
       "</div>"
      ],
      "text/plain": [
       "       industry_id  growth_rate_2015  growth_rate_2016  growth_rate_2017  \\\n",
       "count  7335.000000       7335.000000       7335.000000       7335.000000   \n",
       "mean     70.444853          0.000465          0.001303          0.000662   \n",
       "std      43.195772          0.057863          0.051965          0.044719   \n",
       "min       3.000000         -0.372654         -0.310484         -0.603328   \n",
       "25%      37.000000         -0.026549         -0.023920         -0.020628   \n",
       "50%      61.000000         -0.001190         -0.001036          0.000000   \n",
       "75%     110.000000          0.023056          0.021858          0.018868   \n",
       "max     147.000000          1.084507          0.760417          0.459854   \n",
       "\n",
       "       growth_rate_2018  growth_rate_2019  \n",
       "count       7335.000000       7335.000000  \n",
       "mean           0.000499          0.000330  \n",
       "std            0.036628          0.027025  \n",
       "min           -0.186667         -0.164179  \n",
       "25%           -0.017104         -0.012658  \n",
       "50%            0.000000         -0.000468  \n",
       "75%            0.015649          0.011299  \n",
       "max            0.317073          0.345154  "
      ]
     },
     "execution_count": 71,
     "metadata": {},
     "output_type": "execute_result"
    }
   ],
   "source": [
    "employment.describe()"
   ]
  },
  {
   "cell_type": "code",
   "execution_count": 73,
   "id": "229388b8",
   "metadata": {},
   "outputs": [
    {
     "name": "stdout",
     "output_type": "stream",
     "text": [
      "<class 'pandas.core.frame.DataFrame'>\n",
      "RangeIndex: 7335 entries, 0 to 7334\n",
      "Data columns (total 13 columns):\n",
      " #   Column              Non-Null Count  Dtype  \n",
      "---  ------              --------------  -----  \n",
      " 0   country_code        7335 non-null   object \n",
      " 1   country_name        7335 non-null   object \n",
      " 2   wb_region           7335 non-null   object \n",
      " 3   wb_income           7335 non-null   object \n",
      " 4   isic_section_index  7335 non-null   object \n",
      " 5   isic_section_name   7335 non-null   object \n",
      " 6   industry_id         7335 non-null   int64  \n",
      " 7   industry_name       7335 non-null   object \n",
      " 8   growth_rate_2015    7335 non-null   float64\n",
      " 9   growth_rate_2016    7335 non-null   float64\n",
      " 10  growth_rate_2017    7335 non-null   float64\n",
      " 11  growth_rate_2018    7335 non-null   float64\n",
      " 12  growth_rate_2019    7335 non-null   float64\n",
      "dtypes: float64(5), int64(1), object(7)\n",
      "memory usage: 745.1+ KB\n"
     ]
    }
   ],
   "source": [
    "employment.info()"
   ]
  },
  {
   "cell_type": "code",
   "execution_count": 76,
   "id": "ecc90915",
   "metadata": {},
   "outputs": [
    {
     "data": {
      "text/plain": [
       "country_code          0\n",
       "country_name          0\n",
       "wb_region             0\n",
       "wb_income             0\n",
       "isic_section_index    0\n",
       "isic_section_name     0\n",
       "industry_id           0\n",
       "industry_name         0\n",
       "growth_rate_2015      0\n",
       "growth_rate_2016      0\n",
       "growth_rate_2017      0\n",
       "growth_rate_2018      0\n",
       "growth_rate_2019      0\n",
       "dtype: int64"
      ]
     },
     "execution_count": 76,
     "metadata": {},
     "output_type": "execute_result"
    }
   ],
   "source": [
    "employment.isnull().sum()"
   ]
  },
  {
   "cell_type": "code",
   "execution_count": 82,
   "id": "647d8c8d",
   "metadata": {},
   "outputs": [
    {
     "data": {
      "text/plain": [
       "128"
      ]
     },
     "execution_count": 82,
     "metadata": {},
     "output_type": "execute_result"
    }
   ],
   "source": [
    "countries=list(employment.country_name.unique())\n",
    "len(countries)"
   ]
  },
  {
   "cell_type": "code",
   "execution_count": 81,
   "id": "1a3aefb5",
   "metadata": {},
   "outputs": [
    {
     "data": {
      "text/plain": [
       "['United Arab Emirates',\n",
       " 'Afghanistan',\n",
       " 'Albania',\n",
       " 'Armenia',\n",
       " 'Angola',\n",
       " 'Argentina',\n",
       " 'Austria',\n",
       " 'Australia',\n",
       " 'Azerbaijan',\n",
       " 'Bosnia and Herzegovina']"
      ]
     },
     "execution_count": 81,
     "metadata": {},
     "output_type": "execute_result"
    }
   ],
   "source": [
    "countries[0:10]"
   ]
  },
  {
   "cell_type": "code",
   "execution_count": 83,
   "id": "9810f10d",
   "metadata": {},
   "outputs": [
    {
     "data": {
      "text/plain": [
       "128"
      ]
     },
     "execution_count": 83,
     "metadata": {},
     "output_type": "execute_result"
    }
   ],
   "source": [
    "country_code=list(employment.country_code.unique())\n",
    "len(country_code)"
   ]
  },
  {
   "cell_type": "code",
   "execution_count": 85,
   "id": "3ee2c420",
   "metadata": {},
   "outputs": [
    {
     "data": {
      "text/plain": [
       "Europe & Central Asia         2547\n",
       "Latin America & Caribbean     1227\n",
       "Middle East & North Africa    1079\n",
       "East Asia & Pacific           1051\n",
       "Sub-Saharan Africa             917\n",
       "South Asia                     360\n",
       "North America                  154\n",
       "Name: wb_region, dtype: int64"
      ]
     },
     "execution_count": 85,
     "metadata": {},
     "output_type": "execute_result"
    }
   ],
   "source": [
    "employment.wb_region.value_counts()"
   ]
  },
  {
   "cell_type": "code",
   "execution_count": 84,
   "id": "1986b08b",
   "metadata": {},
   "outputs": [
    {
     "data": {
      "text/plain": [
       "High income            3348\n",
       "Upper middle income    1996\n",
       "Lower middle income    1537\n",
       "Low income              454\n",
       "Name: wb_income, dtype: int64"
      ]
     },
     "execution_count": 84,
     "metadata": {},
     "output_type": "execute_result"
    }
   ],
   "source": [
    "employment.wb_income.value_counts()"
   ]
  },
  {
   "cell_type": "code",
   "execution_count": 87,
   "id": "fa99c67b",
   "metadata": {},
   "outputs": [
    {
     "name": "stdout",
     "output_type": "stream",
     "text": [
      "['Mining and quarrying', 'Manufacturing', 'Information and communication', 'Financial and insurance activities', 'Professional scientific and technical activities', 'Arts, entertainment and recreation ']\n"
     ]
    }
   ],
   "source": [
    "section_name=list(employment.isic_section_name.unique())\n",
    "print(section_name)"
   ]
  },
  {
   "cell_type": "code",
   "execution_count": null,
   "id": "14486db5",
   "metadata": {},
   "outputs": [],
   "source": []
  },
  {
   "cell_type": "code",
   "execution_count": 77,
   "id": "be3930dc",
   "metadata": {},
   "outputs": [
    {
     "data": {
      "text/plain": [
       "77"
      ]
     },
     "execution_count": 77,
     "metadata": {},
     "output_type": "execute_result"
    }
   ],
   "source": [
    "industry_name=list(employment.industry_name.unique())\n",
    "len(industry_name)"
   ]
  },
  {
   "cell_type": "code",
   "execution_count": null,
   "id": "1f0174f5",
   "metadata": {},
   "outputs": [],
   "source": []
  },
  {
   "cell_type": "markdown",
   "id": "3aefeabf",
   "metadata": {},
   "source": [
    "### Skill needs"
   ]
  },
  {
   "cell_type": "code",
   "execution_count": 88,
   "id": "893f5532",
   "metadata": {},
   "outputs": [
    {
     "data": {
      "text/html": [
       "<div>\n",
       "<style scoped>\n",
       "    .dataframe tbody tr th:only-of-type {\n",
       "        vertical-align: middle;\n",
       "    }\n",
       "\n",
       "    .dataframe tbody tr th {\n",
       "        vertical-align: top;\n",
       "    }\n",
       "\n",
       "    .dataframe thead th {\n",
       "        text-align: right;\n",
       "    }\n",
       "</style>\n",
       "<table border=\"1\" class=\"dataframe\">\n",
       "  <thead>\n",
       "    <tr style=\"text-align: right;\">\n",
       "      <th></th>\n",
       "      <th>year</th>\n",
       "      <th>isic_section_index</th>\n",
       "      <th>isic_section_name</th>\n",
       "      <th>industry_name</th>\n",
       "      <th>skill_group_category</th>\n",
       "      <th>skill_group_name</th>\n",
       "      <th>skill_group_rank</th>\n",
       "    </tr>\n",
       "  </thead>\n",
       "  <tbody>\n",
       "    <tr>\n",
       "      <th>0</th>\n",
       "      <td>2015</td>\n",
       "      <td>B</td>\n",
       "      <td>Mining and quarrying</td>\n",
       "      <td>Mining &amp; Metals</td>\n",
       "      <td>Specialized Industry Skills</td>\n",
       "      <td>Mining</td>\n",
       "      <td>1</td>\n",
       "    </tr>\n",
       "    <tr>\n",
       "      <th>1</th>\n",
       "      <td>2015</td>\n",
       "      <td>B</td>\n",
       "      <td>Mining and quarrying</td>\n",
       "      <td>Mining &amp; Metals</td>\n",
       "      <td>Soft Skills</td>\n",
       "      <td>Negotiation</td>\n",
       "      <td>2</td>\n",
       "    </tr>\n",
       "    <tr>\n",
       "      <th>2</th>\n",
       "      <td>2015</td>\n",
       "      <td>B</td>\n",
       "      <td>Mining and quarrying</td>\n",
       "      <td>Mining &amp; Metals</td>\n",
       "      <td>Business Skills</td>\n",
       "      <td>Project Management</td>\n",
       "      <td>3</td>\n",
       "    </tr>\n",
       "    <tr>\n",
       "      <th>3</th>\n",
       "      <td>2015</td>\n",
       "      <td>B</td>\n",
       "      <td>Mining and quarrying</td>\n",
       "      <td>Mining &amp; Metals</td>\n",
       "      <td>Business Skills</td>\n",
       "      <td>Business Management</td>\n",
       "      <td>4</td>\n",
       "    </tr>\n",
       "    <tr>\n",
       "      <th>4</th>\n",
       "      <td>2015</td>\n",
       "      <td>B</td>\n",
       "      <td>Mining and quarrying</td>\n",
       "      <td>Mining &amp; Metals</td>\n",
       "      <td>Specialized Industry Skills</td>\n",
       "      <td>Earth Science</td>\n",
       "      <td>5</td>\n",
       "    </tr>\n",
       "  </tbody>\n",
       "</table>\n",
       "</div>"
      ],
      "text/plain": [
       "   year isic_section_index     isic_section_name    industry_name  \\\n",
       "0  2015                  B  Mining and quarrying  Mining & Metals   \n",
       "1  2015                  B  Mining and quarrying  Mining & Metals   \n",
       "2  2015                  B  Mining and quarrying  Mining & Metals   \n",
       "3  2015                  B  Mining and quarrying  Mining & Metals   \n",
       "4  2015                  B  Mining and quarrying  Mining & Metals   \n",
       "\n",
       "          skill_group_category     skill_group_name  skill_group_rank  \n",
       "0  Specialized Industry Skills               Mining                 1  \n",
       "1                  Soft Skills          Negotiation                 2  \n",
       "2              Business Skills   Project Management                 3  \n",
       "3              Business Skills  Business Management                 4  \n",
       "4  Specialized Industry Skills        Earth Science                 5  "
      ]
     },
     "execution_count": 88,
     "metadata": {},
     "output_type": "execute_result"
    }
   ],
   "source": [
    "skills_needs.head()"
   ]
  },
  {
   "cell_type": "code",
   "execution_count": 90,
   "id": "c5f1f06a",
   "metadata": {},
   "outputs": [
    {
     "data": {
      "text/plain": [
       "(3500, 7)"
      ]
     },
     "execution_count": 90,
     "metadata": {},
     "output_type": "execute_result"
    }
   ],
   "source": [
    "skills_needs.shape"
   ]
  },
  {
   "cell_type": "code",
   "execution_count": 92,
   "id": "a3aba2b0",
   "metadata": {},
   "outputs": [
    {
     "data": {
      "text/html": [
       "<div>\n",
       "<style scoped>\n",
       "    .dataframe tbody tr th:only-of-type {\n",
       "        vertical-align: middle;\n",
       "    }\n",
       "\n",
       "    .dataframe tbody tr th {\n",
       "        vertical-align: top;\n",
       "    }\n",
       "\n",
       "    .dataframe thead th {\n",
       "        text-align: right;\n",
       "    }\n",
       "</style>\n",
       "<table border=\"1\" class=\"dataframe\">\n",
       "  <thead>\n",
       "    <tr style=\"text-align: right;\">\n",
       "      <th></th>\n",
       "      <th>year</th>\n",
       "      <th>skill_group_rank</th>\n",
       "    </tr>\n",
       "  </thead>\n",
       "  <tbody>\n",
       "    <tr>\n",
       "      <th>count</th>\n",
       "      <td>3500.000000</td>\n",
       "      <td>3500.000000</td>\n",
       "    </tr>\n",
       "    <tr>\n",
       "      <th>mean</th>\n",
       "      <td>2017.000000</td>\n",
       "      <td>5.500000</td>\n",
       "    </tr>\n",
       "    <tr>\n",
       "      <th>std</th>\n",
       "      <td>1.414416</td>\n",
       "      <td>2.872692</td>\n",
       "    </tr>\n",
       "    <tr>\n",
       "      <th>min</th>\n",
       "      <td>2015.000000</td>\n",
       "      <td>1.000000</td>\n",
       "    </tr>\n",
       "    <tr>\n",
       "      <th>25%</th>\n",
       "      <td>2016.000000</td>\n",
       "      <td>3.000000</td>\n",
       "    </tr>\n",
       "    <tr>\n",
       "      <th>50%</th>\n",
       "      <td>2017.000000</td>\n",
       "      <td>5.500000</td>\n",
       "    </tr>\n",
       "    <tr>\n",
       "      <th>75%</th>\n",
       "      <td>2018.000000</td>\n",
       "      <td>8.000000</td>\n",
       "    </tr>\n",
       "    <tr>\n",
       "      <th>max</th>\n",
       "      <td>2019.000000</td>\n",
       "      <td>10.000000</td>\n",
       "    </tr>\n",
       "  </tbody>\n",
       "</table>\n",
       "</div>"
      ],
      "text/plain": [
       "              year  skill_group_rank\n",
       "count  3500.000000       3500.000000\n",
       "mean   2017.000000          5.500000\n",
       "std       1.414416          2.872692\n",
       "min    2015.000000          1.000000\n",
       "25%    2016.000000          3.000000\n",
       "50%    2017.000000          5.500000\n",
       "75%    2018.000000          8.000000\n",
       "max    2019.000000         10.000000"
      ]
     },
     "execution_count": 92,
     "metadata": {},
     "output_type": "execute_result"
    }
   ],
   "source": [
    "skills_needs.describe()"
   ]
  },
  {
   "cell_type": "code",
   "execution_count": 93,
   "id": "ad557c49",
   "metadata": {},
   "outputs": [
    {
     "name": "stdout",
     "output_type": "stream",
     "text": [
      "<class 'pandas.core.frame.DataFrame'>\n",
      "RangeIndex: 3500 entries, 0 to 3499\n",
      "Data columns (total 7 columns):\n",
      " #   Column                Non-Null Count  Dtype \n",
      "---  ------                --------------  ----- \n",
      " 0   year                  3500 non-null   int64 \n",
      " 1   isic_section_index    3500 non-null   object\n",
      " 2   isic_section_name     3500 non-null   object\n",
      " 3   industry_name         3500 non-null   object\n",
      " 4   skill_group_category  3500 non-null   object\n",
      " 5   skill_group_name      3500 non-null   object\n",
      " 6   skill_group_rank      3500 non-null   int64 \n",
      "dtypes: int64(2), object(5)\n",
      "memory usage: 191.5+ KB\n"
     ]
    }
   ],
   "source": [
    "skills_needs.info()"
   ]
  },
  {
   "cell_type": "code",
   "execution_count": 94,
   "id": "b1ce1aec",
   "metadata": {},
   "outputs": [
    {
     "data": {
      "text/plain": [
       "year                    0\n",
       "isic_section_index      0\n",
       "isic_section_name       0\n",
       "industry_name           0\n",
       "skill_group_category    0\n",
       "skill_group_name        0\n",
       "skill_group_rank        0\n",
       "dtype: int64"
      ]
     },
     "execution_count": 94,
     "metadata": {},
     "output_type": "execute_result"
    }
   ],
   "source": [
    "skills_needs.isnull().sum()"
   ]
  },
  {
   "cell_type": "code",
   "execution_count": 95,
   "id": "473c832b",
   "metadata": {},
   "outputs": [
    {
     "data": {
      "text/plain": [
       "array([2015, 2016, 2017, 2018, 2019])"
      ]
     },
     "execution_count": 95,
     "metadata": {},
     "output_type": "execute_result"
    }
   ],
   "source": [
    "skills_needs.year.unique()"
   ]
  },
  {
   "cell_type": "code",
   "execution_count": null,
   "id": "ee6c8c66",
   "metadata": {},
   "outputs": [],
   "source": []
  },
  {
   "cell_type": "code",
   "execution_count": null,
   "id": "56b8ade8",
   "metadata": {},
   "outputs": [],
   "source": []
  },
  {
   "cell_type": "code",
   "execution_count": null,
   "id": "84f62e04",
   "metadata": {},
   "outputs": [],
   "source": []
  },
  {
   "cell_type": "markdown",
   "id": "99770a2c",
   "metadata": {},
   "source": [
    "### Skill penetration"
   ]
  },
  {
   "cell_type": "code",
   "execution_count": 89,
   "id": "1dd9e9da",
   "metadata": {},
   "outputs": [
    {
     "data": {
      "text/html": [
       "<div>\n",
       "<style scoped>\n",
       "    .dataframe tbody tr th:only-of-type {\n",
       "        vertical-align: middle;\n",
       "    }\n",
       "\n",
       "    .dataframe tbody tr th {\n",
       "        vertical-align: top;\n",
       "    }\n",
       "\n",
       "    .dataframe thead th {\n",
       "        text-align: right;\n",
       "    }\n",
       "</style>\n",
       "<table border=\"1\" class=\"dataframe\">\n",
       "  <thead>\n",
       "    <tr style=\"text-align: right;\">\n",
       "      <th></th>\n",
       "      <th>year</th>\n",
       "      <th>skill_group_category</th>\n",
       "      <th>skill_group_name</th>\n",
       "      <th>isic_section_index</th>\n",
       "      <th>isic_section_name</th>\n",
       "      <th>industry_name</th>\n",
       "      <th>skill_group_penetration_rate</th>\n",
       "    </tr>\n",
       "  </thead>\n",
       "  <tbody>\n",
       "    <tr>\n",
       "      <th>0</th>\n",
       "      <td>2015</td>\n",
       "      <td>Business Skills</td>\n",
       "      <td>Accounts Payable</td>\n",
       "      <td>M</td>\n",
       "      <td>Professional scientific and technical activities</td>\n",
       "      <td>Accounting</td>\n",
       "      <td>0.00719</td>\n",
       "    </tr>\n",
       "    <tr>\n",
       "      <th>1</th>\n",
       "      <td>2015</td>\n",
       "      <td>Business Skills</td>\n",
       "      <td>Accounts Payable</td>\n",
       "      <td>M</td>\n",
       "      <td>Professional scientific and technical activities</td>\n",
       "      <td>Law Practice</td>\n",
       "      <td>0.00244</td>\n",
       "    </tr>\n",
       "    <tr>\n",
       "      <th>2</th>\n",
       "      <td>2015</td>\n",
       "      <td>Business Skills</td>\n",
       "      <td>Accounts Payable</td>\n",
       "      <td>M</td>\n",
       "      <td>Professional scientific and technical activities</td>\n",
       "      <td>Executive Office</td>\n",
       "      <td>0.00222</td>\n",
       "    </tr>\n",
       "    <tr>\n",
       "      <th>3</th>\n",
       "      <td>2015</td>\n",
       "      <td>Business Skills</td>\n",
       "      <td>Accounts Payable</td>\n",
       "      <td>C</td>\n",
       "      <td>Manufacturing</td>\n",
       "      <td>Packaging &amp; Containers</td>\n",
       "      <td>0.00132</td>\n",
       "    </tr>\n",
       "    <tr>\n",
       "      <th>4</th>\n",
       "      <td>2015</td>\n",
       "      <td>Business Skills</td>\n",
       "      <td>Accounts Payable</td>\n",
       "      <td>B</td>\n",
       "      <td>Mining and quarrying</td>\n",
       "      <td>Oil &amp; Energy</td>\n",
       "      <td>0.00132</td>\n",
       "    </tr>\n",
       "  </tbody>\n",
       "</table>\n",
       "</div>"
      ],
      "text/plain": [
       "   year skill_group_category  skill_group_name isic_section_index  \\\n",
       "0  2015      Business Skills  Accounts Payable                  M   \n",
       "1  2015      Business Skills  Accounts Payable                  M   \n",
       "2  2015      Business Skills  Accounts Payable                  M   \n",
       "3  2015      Business Skills  Accounts Payable                  C   \n",
       "4  2015      Business Skills  Accounts Payable                  B   \n",
       "\n",
       "                                  isic_section_name           industry_name  \\\n",
       "0  Professional scientific and technical activities              Accounting   \n",
       "1  Professional scientific and technical activities            Law Practice   \n",
       "2  Professional scientific and technical activities        Executive Office   \n",
       "3                                     Manufacturing  Packaging & Containers   \n",
       "4                              Mining and quarrying            Oil & Energy   \n",
       "\n",
       "   skill_group_penetration_rate  \n",
       "0                       0.00719  \n",
       "1                       0.00244  \n",
       "2                       0.00222  \n",
       "3                       0.00132  \n",
       "4                       0.00132  "
      ]
     },
     "execution_count": 89,
     "metadata": {},
     "output_type": "execute_result"
    }
   ],
   "source": [
    "skill_penetration.head()"
   ]
  },
  {
   "cell_type": "code",
   "execution_count": 96,
   "id": "8ca5bc4c",
   "metadata": {},
   "outputs": [
    {
     "data": {
      "text/plain": [
       "(20780, 7)"
      ]
     },
     "execution_count": 96,
     "metadata": {},
     "output_type": "execute_result"
    }
   ],
   "source": [
    "skill_penetration.shape"
   ]
  },
  {
   "cell_type": "code",
   "execution_count": null,
   "id": "d2393fe9",
   "metadata": {},
   "outputs": [],
   "source": []
  },
  {
   "cell_type": "code",
   "execution_count": 97,
   "id": "632d7d9c",
   "metadata": {},
   "outputs": [
    {
     "data": {
      "text/html": [
       "<div>\n",
       "<style scoped>\n",
       "    .dataframe tbody tr th:only-of-type {\n",
       "        vertical-align: middle;\n",
       "    }\n",
       "\n",
       "    .dataframe tbody tr th {\n",
       "        vertical-align: top;\n",
       "    }\n",
       "\n",
       "    .dataframe thead th {\n",
       "        text-align: right;\n",
       "    }\n",
       "</style>\n",
       "<table border=\"1\" class=\"dataframe\">\n",
       "  <thead>\n",
       "    <tr style=\"text-align: right;\">\n",
       "      <th></th>\n",
       "      <th>year</th>\n",
       "      <th>skill_group_penetration_rate</th>\n",
       "    </tr>\n",
       "  </thead>\n",
       "  <tbody>\n",
       "    <tr>\n",
       "      <th>count</th>\n",
       "      <td>20780.000000</td>\n",
       "      <td>20780.000000</td>\n",
       "    </tr>\n",
       "    <tr>\n",
       "      <th>mean</th>\n",
       "      <td>2017.000000</td>\n",
       "      <td>0.006256</td>\n",
       "    </tr>\n",
       "    <tr>\n",
       "      <th>std</th>\n",
       "      <td>1.414248</td>\n",
       "      <td>0.013577</td>\n",
       "    </tr>\n",
       "    <tr>\n",
       "      <th>min</th>\n",
       "      <td>2015.000000</td>\n",
       "      <td>0.000100</td>\n",
       "    </tr>\n",
       "    <tr>\n",
       "      <th>25%</th>\n",
       "      <td>2016.000000</td>\n",
       "      <td>0.000600</td>\n",
       "    </tr>\n",
       "    <tr>\n",
       "      <th>50%</th>\n",
       "      <td>2017.000000</td>\n",
       "      <td>0.001660</td>\n",
       "    </tr>\n",
       "    <tr>\n",
       "      <th>75%</th>\n",
       "      <td>2018.000000</td>\n",
       "      <td>0.005360</td>\n",
       "    </tr>\n",
       "    <tr>\n",
       "      <th>max</th>\n",
       "      <td>2019.000000</td>\n",
       "      <td>0.273000</td>\n",
       "    </tr>\n",
       "  </tbody>\n",
       "</table>\n",
       "</div>"
      ],
      "text/plain": [
       "               year  skill_group_penetration_rate\n",
       "count  20780.000000                  20780.000000\n",
       "mean    2017.000000                      0.006256\n",
       "std        1.414248                      0.013577\n",
       "min     2015.000000                      0.000100\n",
       "25%     2016.000000                      0.000600\n",
       "50%     2017.000000                      0.001660\n",
       "75%     2018.000000                      0.005360\n",
       "max     2019.000000                      0.273000"
      ]
     },
     "execution_count": 97,
     "metadata": {},
     "output_type": "execute_result"
    }
   ],
   "source": [
    "skill_penetration.describe()"
   ]
  },
  {
   "cell_type": "code",
   "execution_count": 98,
   "id": "0c40cbce",
   "metadata": {},
   "outputs": [
    {
     "name": "stdout",
     "output_type": "stream",
     "text": [
      "<class 'pandas.core.frame.DataFrame'>\n",
      "RangeIndex: 20780 entries, 0 to 20779\n",
      "Data columns (total 7 columns):\n",
      " #   Column                        Non-Null Count  Dtype  \n",
      "---  ------                        --------------  -----  \n",
      " 0   year                          20780 non-null  int64  \n",
      " 1   skill_group_category          20780 non-null  object \n",
      " 2   skill_group_name              20780 non-null  object \n",
      " 3   isic_section_index            20780 non-null  object \n",
      " 4   isic_section_name             20780 non-null  object \n",
      " 5   industry_name                 20780 non-null  object \n",
      " 6   skill_group_penetration_rate  20780 non-null  float64\n",
      "dtypes: float64(1), int64(1), object(5)\n",
      "memory usage: 1.1+ MB\n"
     ]
    }
   ],
   "source": [
    "skill_penetration.info()"
   ]
  },
  {
   "cell_type": "code",
   "execution_count": 99,
   "id": "742cdd9b",
   "metadata": {},
   "outputs": [
    {
     "data": {
      "text/plain": [
       "year                            0\n",
       "skill_group_category            0\n",
       "skill_group_name                0\n",
       "isic_section_index              0\n",
       "isic_section_name               0\n",
       "industry_name                   0\n",
       "skill_group_penetration_rate    0\n",
       "dtype: int64"
      ]
     },
     "execution_count": 99,
     "metadata": {},
     "output_type": "execute_result"
    }
   ],
   "source": [
    "skill_penetration.isnull().sum()"
   ]
  },
  {
   "cell_type": "code",
   "execution_count": 117,
   "id": "2501f679",
   "metadata": {},
   "outputs": [
    {
     "data": {
      "text/plain": [
       "Specialized Industry Skills    7610\n",
       "Business Skills                6690\n",
       "Tech Skills                    3505\n",
       "Soft Skills                    1935\n",
       "Disruptive Tech Skills         1040\n",
       "Name: skill_group_category, dtype: int64"
      ]
     },
     "execution_count": 117,
     "metadata": {},
     "output_type": "execute_result"
    }
   ],
   "source": [
    "skill_penetration.skill_group_category.value_counts()"
   ]
  },
  {
   "cell_type": "code",
   "execution_count": 118,
   "id": "1f104326",
   "metadata": {},
   "outputs": [
    {
     "data": {
      "text/plain": [
       "Oil & Energy                         480\n",
       "Information Technology & Services    470\n",
       "Health, Wellness & Fitness           465\n",
       "Internet                             450\n",
       "Management Consulting                435\n",
       "                                    ... \n",
       "Translation & Localization           175\n",
       "Veterinary                           170\n",
       "Photography                          165\n",
       "Venture Capital & Private Equity     155\n",
       "Investment Banking                   130\n",
       "Name: industry_name, Length: 70, dtype: int64"
      ]
     },
     "execution_count": 118,
     "metadata": {},
     "output_type": "execute_result"
    }
   ],
   "source": [
    "skill_penetration.industry_name.value_counts()"
   ]
  },
  {
   "cell_type": "code",
   "execution_count": null,
   "id": "fa208dc4",
   "metadata": {},
   "outputs": [],
   "source": []
  },
  {
   "cell_type": "markdown",
   "id": "b7a8047a",
   "metadata": {},
   "source": [
    "### Talent migration"
   ]
  },
  {
   "cell_type": "markdown",
   "id": "37d56c6a",
   "metadata": {},
   "source": [
    "#### Country Migration"
   ]
  },
  {
   "cell_type": "code",
   "execution_count": 104,
   "id": "b0746c5d",
   "metadata": {},
   "outputs": [
    {
     "data": {
      "text/html": [
       "<div>\n",
       "<style scoped>\n",
       "    .dataframe tbody tr th:only-of-type {\n",
       "        vertical-align: middle;\n",
       "    }\n",
       "\n",
       "    .dataframe tbody tr th {\n",
       "        vertical-align: top;\n",
       "    }\n",
       "\n",
       "    .dataframe thead th {\n",
       "        text-align: right;\n",
       "    }\n",
       "</style>\n",
       "<table border=\"1\" class=\"dataframe\">\n",
       "  <thead>\n",
       "    <tr style=\"text-align: right;\">\n",
       "      <th></th>\n",
       "      <th>base_country_code</th>\n",
       "      <th>base_country_name</th>\n",
       "      <th>base_lat</th>\n",
       "      <th>base_long</th>\n",
       "      <th>base_country_wb_income</th>\n",
       "      <th>base_country_wb_region</th>\n",
       "      <th>target_country_code</th>\n",
       "      <th>target_country_name</th>\n",
       "      <th>target_lat</th>\n",
       "      <th>target_long</th>\n",
       "      <th>target_country_wb_income</th>\n",
       "      <th>target_country_wb_region</th>\n",
       "      <th>net_per_10K_2015</th>\n",
       "      <th>net_per_10K_2016</th>\n",
       "      <th>net_per_10K_2017</th>\n",
       "      <th>net_per_10K_2018</th>\n",
       "      <th>net_per_10K_2019</th>\n",
       "    </tr>\n",
       "  </thead>\n",
       "  <tbody>\n",
       "    <tr>\n",
       "      <th>0</th>\n",
       "      <td>ae</td>\n",
       "      <td>United Arab Emirates</td>\n",
       "      <td>23.424076</td>\n",
       "      <td>53.847818</td>\n",
       "      <td>High Income</td>\n",
       "      <td>Middle East &amp; North Africa</td>\n",
       "      <td>af</td>\n",
       "      <td>Afghanistan</td>\n",
       "      <td>33.939110</td>\n",
       "      <td>67.709953</td>\n",
       "      <td>Low Income</td>\n",
       "      <td>South Asia</td>\n",
       "      <td>0.19</td>\n",
       "      <td>0.16</td>\n",
       "      <td>0.11</td>\n",
       "      <td>-0.05</td>\n",
       "      <td>-0.02</td>\n",
       "    </tr>\n",
       "    <tr>\n",
       "      <th>1</th>\n",
       "      <td>ae</td>\n",
       "      <td>United Arab Emirates</td>\n",
       "      <td>23.424076</td>\n",
       "      <td>53.847818</td>\n",
       "      <td>High Income</td>\n",
       "      <td>Middle East &amp; North Africa</td>\n",
       "      <td>dz</td>\n",
       "      <td>Algeria</td>\n",
       "      <td>28.033886</td>\n",
       "      <td>1.659626</td>\n",
       "      <td>Upper Middle Income</td>\n",
       "      <td>Middle East &amp; North Africa</td>\n",
       "      <td>0.19</td>\n",
       "      <td>0.25</td>\n",
       "      <td>0.57</td>\n",
       "      <td>0.55</td>\n",
       "      <td>0.78</td>\n",
       "    </tr>\n",
       "    <tr>\n",
       "      <th>2</th>\n",
       "      <td>ae</td>\n",
       "      <td>United Arab Emirates</td>\n",
       "      <td>23.424076</td>\n",
       "      <td>53.847818</td>\n",
       "      <td>High Income</td>\n",
       "      <td>Middle East &amp; North Africa</td>\n",
       "      <td>ao</td>\n",
       "      <td>Angola</td>\n",
       "      <td>-11.202692</td>\n",
       "      <td>17.873887</td>\n",
       "      <td>Lower Middle Income</td>\n",
       "      <td>Sub-Saharan Africa</td>\n",
       "      <td>-0.01</td>\n",
       "      <td>0.04</td>\n",
       "      <td>0.11</td>\n",
       "      <td>-0.02</td>\n",
       "      <td>-0.06</td>\n",
       "    </tr>\n",
       "    <tr>\n",
       "      <th>3</th>\n",
       "      <td>ae</td>\n",
       "      <td>United Arab Emirates</td>\n",
       "      <td>23.424076</td>\n",
       "      <td>53.847818</td>\n",
       "      <td>High Income</td>\n",
       "      <td>Middle East &amp; North Africa</td>\n",
       "      <td>ar</td>\n",
       "      <td>Argentina</td>\n",
       "      <td>-38.416097</td>\n",
       "      <td>-63.616672</td>\n",
       "      <td>High Income</td>\n",
       "      <td>Latin America &amp; Caribbean</td>\n",
       "      <td>0.16</td>\n",
       "      <td>0.18</td>\n",
       "      <td>0.04</td>\n",
       "      <td>0.01</td>\n",
       "      <td>0.23</td>\n",
       "    </tr>\n",
       "    <tr>\n",
       "      <th>4</th>\n",
       "      <td>ae</td>\n",
       "      <td>United Arab Emirates</td>\n",
       "      <td>23.424076</td>\n",
       "      <td>53.847818</td>\n",
       "      <td>High Income</td>\n",
       "      <td>Middle East &amp; North Africa</td>\n",
       "      <td>am</td>\n",
       "      <td>Armenia</td>\n",
       "      <td>40.069099</td>\n",
       "      <td>45.038189</td>\n",
       "      <td>Upper Middle Income</td>\n",
       "      <td>Europe &amp; Central Asia</td>\n",
       "      <td>0.10</td>\n",
       "      <td>0.05</td>\n",
       "      <td>0.03</td>\n",
       "      <td>-0.01</td>\n",
       "      <td>0.02</td>\n",
       "    </tr>\n",
       "  </tbody>\n",
       "</table>\n",
       "</div>"
      ],
      "text/plain": [
       "  base_country_code     base_country_name   base_lat  base_long  \\\n",
       "0                ae  United Arab Emirates  23.424076  53.847818   \n",
       "1                ae  United Arab Emirates  23.424076  53.847818   \n",
       "2                ae  United Arab Emirates  23.424076  53.847818   \n",
       "3                ae  United Arab Emirates  23.424076  53.847818   \n",
       "4                ae  United Arab Emirates  23.424076  53.847818   \n",
       "\n",
       "  base_country_wb_income      base_country_wb_region target_country_code  \\\n",
       "0            High Income  Middle East & North Africa                  af   \n",
       "1            High Income  Middle East & North Africa                  dz   \n",
       "2            High Income  Middle East & North Africa                  ao   \n",
       "3            High Income  Middle East & North Africa                  ar   \n",
       "4            High Income  Middle East & North Africa                  am   \n",
       "\n",
       "  target_country_name  target_lat  target_long target_country_wb_income  \\\n",
       "0         Afghanistan   33.939110    67.709953               Low Income   \n",
       "1             Algeria   28.033886     1.659626      Upper Middle Income   \n",
       "2              Angola  -11.202692    17.873887      Lower Middle Income   \n",
       "3           Argentina  -38.416097   -63.616672              High Income   \n",
       "4             Armenia   40.069099    45.038189      Upper Middle Income   \n",
       "\n",
       "     target_country_wb_region  net_per_10K_2015  net_per_10K_2016  \\\n",
       "0                  South Asia              0.19              0.16   \n",
       "1  Middle East & North Africa              0.19              0.25   \n",
       "2          Sub-Saharan Africa             -0.01              0.04   \n",
       "3   Latin America & Caribbean              0.16              0.18   \n",
       "4       Europe & Central Asia              0.10              0.05   \n",
       "\n",
       "   net_per_10K_2017  net_per_10K_2018  net_per_10K_2019  \n",
       "0              0.11             -0.05             -0.02  \n",
       "1              0.57              0.55              0.78  \n",
       "2              0.11             -0.02             -0.06  \n",
       "3              0.04              0.01              0.23  \n",
       "4              0.03             -0.01              0.02  "
      ]
     },
     "execution_count": 104,
     "metadata": {},
     "output_type": "execute_result"
    }
   ],
   "source": [
    "country_migration.head()"
   ]
  },
  {
   "cell_type": "code",
   "execution_count": 110,
   "id": "2b73ebda",
   "metadata": {},
   "outputs": [
    {
     "data": {
      "text/plain": [
       "(4148, 17)"
      ]
     },
     "execution_count": 110,
     "metadata": {},
     "output_type": "execute_result"
    }
   ],
   "source": [
    "country_migration.shape"
   ]
  },
  {
   "cell_type": "code",
   "execution_count": 111,
   "id": "17232e1d",
   "metadata": {},
   "outputs": [
    {
     "data": {
      "text/html": [
       "<div>\n",
       "<style scoped>\n",
       "    .dataframe tbody tr th:only-of-type {\n",
       "        vertical-align: middle;\n",
       "    }\n",
       "\n",
       "    .dataframe tbody tr th {\n",
       "        vertical-align: top;\n",
       "    }\n",
       "\n",
       "    .dataframe thead th {\n",
       "        text-align: right;\n",
       "    }\n",
       "</style>\n",
       "<table border=\"1\" class=\"dataframe\">\n",
       "  <thead>\n",
       "    <tr style=\"text-align: right;\">\n",
       "      <th></th>\n",
       "      <th>base_lat</th>\n",
       "      <th>base_long</th>\n",
       "      <th>target_lat</th>\n",
       "      <th>target_long</th>\n",
       "      <th>net_per_10K_2015</th>\n",
       "      <th>net_per_10K_2016</th>\n",
       "      <th>net_per_10K_2017</th>\n",
       "      <th>net_per_10K_2018</th>\n",
       "      <th>net_per_10K_2019</th>\n",
       "    </tr>\n",
       "  </thead>\n",
       "  <tbody>\n",
       "    <tr>\n",
       "      <th>count</th>\n",
       "      <td>4148.000000</td>\n",
       "      <td>4148.000000</td>\n",
       "      <td>4148.000000</td>\n",
       "      <td>4148.000000</td>\n",
       "      <td>4148.000000</td>\n",
       "      <td>4148.000000</td>\n",
       "      <td>4148.000000</td>\n",
       "      <td>4148.000000</td>\n",
       "      <td>4148.000000</td>\n",
       "    </tr>\n",
       "    <tr>\n",
       "      <th>mean</th>\n",
       "      <td>28.418022</td>\n",
       "      <td>21.698305</td>\n",
       "      <td>28.418022</td>\n",
       "      <td>21.698305</td>\n",
       "      <td>0.461757</td>\n",
       "      <td>0.150248</td>\n",
       "      <td>-0.080272</td>\n",
       "      <td>-0.040591</td>\n",
       "      <td>-0.022743</td>\n",
       "    </tr>\n",
       "    <tr>\n",
       "      <th>std</th>\n",
       "      <td>25.086012</td>\n",
       "      <td>61.937381</td>\n",
       "      <td>25.086012</td>\n",
       "      <td>61.937381</td>\n",
       "      <td>5.006530</td>\n",
       "      <td>4.201118</td>\n",
       "      <td>3.203092</td>\n",
       "      <td>3.593876</td>\n",
       "      <td>3.633247</td>\n",
       "    </tr>\n",
       "    <tr>\n",
       "      <th>min</th>\n",
       "      <td>-40.900557</td>\n",
       "      <td>-106.346771</td>\n",
       "      <td>-40.900557</td>\n",
       "      <td>-106.346771</td>\n",
       "      <td>-37.010000</td>\n",
       "      <td>-40.890000</td>\n",
       "      <td>-43.660000</td>\n",
       "      <td>-56.220000</td>\n",
       "      <td>-50.330000</td>\n",
       "    </tr>\n",
       "    <tr>\n",
       "      <th>25%</th>\n",
       "      <td>14.058324</td>\n",
       "      <td>-3.435973</td>\n",
       "      <td>14.058324</td>\n",
       "      <td>-3.435973</td>\n",
       "      <td>-0.150000</td>\n",
       "      <td>-0.190000</td>\n",
       "      <td>-0.210000</td>\n",
       "      <td>-0.210000</td>\n",
       "      <td>-0.210000</td>\n",
       "    </tr>\n",
       "    <tr>\n",
       "      <th>50%</th>\n",
       "      <td>35.861660</td>\n",
       "      <td>19.145136</td>\n",
       "      <td>35.861660</td>\n",
       "      <td>19.145136</td>\n",
       "      <td>0.000000</td>\n",
       "      <td>0.000000</td>\n",
       "      <td>0.000000</td>\n",
       "      <td>0.000000</td>\n",
       "      <td>0.000000</td>\n",
       "    </tr>\n",
       "    <tr>\n",
       "      <th>75%</th>\n",
       "      <td>47.516231</td>\n",
       "      <td>53.688046</td>\n",
       "      <td>47.516231</td>\n",
       "      <td>53.688046</td>\n",
       "      <td>0.240000</td>\n",
       "      <td>0.220000</td>\n",
       "      <td>0.160000</td>\n",
       "      <td>0.170000</td>\n",
       "      <td>0.180000</td>\n",
       "    </tr>\n",
       "    <tr>\n",
       "      <th>max</th>\n",
       "      <td>64.963051</td>\n",
       "      <td>179.414413</td>\n",
       "      <td>64.963051</td>\n",
       "      <td>179.414413</td>\n",
       "      <td>150.680000</td>\n",
       "      <td>124.480000</td>\n",
       "      <td>87.000000</td>\n",
       "      <td>91.410000</td>\n",
       "      <td>87.710000</td>\n",
       "    </tr>\n",
       "  </tbody>\n",
       "</table>\n",
       "</div>"
      ],
      "text/plain": [
       "          base_lat    base_long   target_lat  target_long  net_per_10K_2015  \\\n",
       "count  4148.000000  4148.000000  4148.000000  4148.000000       4148.000000   \n",
       "mean     28.418022    21.698305    28.418022    21.698305          0.461757   \n",
       "std      25.086012    61.937381    25.086012    61.937381          5.006530   \n",
       "min     -40.900557  -106.346771   -40.900557  -106.346771        -37.010000   \n",
       "25%      14.058324    -3.435973    14.058324    -3.435973         -0.150000   \n",
       "50%      35.861660    19.145136    35.861660    19.145136          0.000000   \n",
       "75%      47.516231    53.688046    47.516231    53.688046          0.240000   \n",
       "max      64.963051   179.414413    64.963051   179.414413        150.680000   \n",
       "\n",
       "       net_per_10K_2016  net_per_10K_2017  net_per_10K_2018  net_per_10K_2019  \n",
       "count       4148.000000       4148.000000       4148.000000       4148.000000  \n",
       "mean           0.150248         -0.080272         -0.040591         -0.022743  \n",
       "std            4.201118          3.203092          3.593876          3.633247  \n",
       "min          -40.890000        -43.660000        -56.220000        -50.330000  \n",
       "25%           -0.190000         -0.210000         -0.210000         -0.210000  \n",
       "50%            0.000000          0.000000          0.000000          0.000000  \n",
       "75%            0.220000          0.160000          0.170000          0.180000  \n",
       "max          124.480000         87.000000         91.410000         87.710000  "
      ]
     },
     "execution_count": 111,
     "metadata": {},
     "output_type": "execute_result"
    }
   ],
   "source": [
    "country_migration.describe()"
   ]
  },
  {
   "cell_type": "code",
   "execution_count": 112,
   "id": "53aefc11",
   "metadata": {},
   "outputs": [
    {
     "name": "stdout",
     "output_type": "stream",
     "text": [
      "<class 'pandas.core.frame.DataFrame'>\n",
      "RangeIndex: 4148 entries, 0 to 4147\n",
      "Data columns (total 17 columns):\n",
      " #   Column                    Non-Null Count  Dtype  \n",
      "---  ------                    --------------  -----  \n",
      " 0   base_country_code         4148 non-null   object \n",
      " 1   base_country_name         4148 non-null   object \n",
      " 2   base_lat                  4148 non-null   float64\n",
      " 3   base_long                 4148 non-null   float64\n",
      " 4   base_country_wb_income    4148 non-null   object \n",
      " 5   base_country_wb_region    4148 non-null   object \n",
      " 6   target_country_code       4148 non-null   object \n",
      " 7   target_country_name       4148 non-null   object \n",
      " 8   target_lat                4148 non-null   float64\n",
      " 9   target_long               4148 non-null   float64\n",
      " 10  target_country_wb_income  4148 non-null   object \n",
      " 11  target_country_wb_region  4148 non-null   object \n",
      " 12  net_per_10K_2015          4148 non-null   float64\n",
      " 13  net_per_10K_2016          4148 non-null   float64\n",
      " 14  net_per_10K_2017          4148 non-null   float64\n",
      " 15  net_per_10K_2018          4148 non-null   float64\n",
      " 16  net_per_10K_2019          4148 non-null   float64\n",
      "dtypes: float64(9), object(8)\n",
      "memory usage: 551.0+ KB\n"
     ]
    }
   ],
   "source": [
    "country_migration.info()"
   ]
  },
  {
   "cell_type": "code",
   "execution_count": 113,
   "id": "c7fb2670",
   "metadata": {},
   "outputs": [
    {
     "data": {
      "text/plain": [
       "base_country_code           0\n",
       "base_country_name           0\n",
       "base_lat                    0\n",
       "base_long                   0\n",
       "base_country_wb_income      0\n",
       "base_country_wb_region      0\n",
       "target_country_code         0\n",
       "target_country_name         0\n",
       "target_lat                  0\n",
       "target_long                 0\n",
       "target_country_wb_income    0\n",
       "target_country_wb_region    0\n",
       "net_per_10K_2015            0\n",
       "net_per_10K_2016            0\n",
       "net_per_10K_2017            0\n",
       "net_per_10K_2018            0\n",
       "net_per_10K_2019            0\n",
       "dtype: int64"
      ]
     },
     "execution_count": 113,
     "metadata": {},
     "output_type": "execute_result"
    }
   ],
   "source": [
    "country_migration.isnull().sum()"
   ]
  },
  {
   "cell_type": "code",
   "execution_count": null,
   "id": "6b894755",
   "metadata": {},
   "outputs": [],
   "source": []
  },
  {
   "cell_type": "code",
   "execution_count": null,
   "id": "7320f2bb",
   "metadata": {},
   "outputs": [],
   "source": []
  },
  {
   "cell_type": "code",
   "execution_count": null,
   "id": "233fd3e3",
   "metadata": {},
   "outputs": [],
   "source": []
  },
  {
   "cell_type": "code",
   "execution_count": null,
   "id": "43b049d9",
   "metadata": {},
   "outputs": [],
   "source": []
  },
  {
   "cell_type": "code",
   "execution_count": null,
   "id": "19a5d174",
   "metadata": {},
   "outputs": [],
   "source": []
  },
  {
   "cell_type": "code",
   "execution_count": null,
   "id": "98a4e812",
   "metadata": {},
   "outputs": [],
   "source": []
  },
  {
   "cell_type": "code",
   "execution_count": null,
   "id": "32ae0b5b",
   "metadata": {},
   "outputs": [],
   "source": []
  },
  {
   "cell_type": "code",
   "execution_count": null,
   "id": "26a3b43d",
   "metadata": {},
   "outputs": [],
   "source": []
  },
  {
   "cell_type": "code",
   "execution_count": null,
   "id": "c60a55d2",
   "metadata": {},
   "outputs": [],
   "source": []
  },
  {
   "cell_type": "markdown",
   "id": "754a2cc5",
   "metadata": {},
   "source": [
    "#### Industry Migration"
   ]
  },
  {
   "cell_type": "code",
   "execution_count": 114,
   "id": "7b6acadf",
   "metadata": {},
   "outputs": [
    {
     "data": {
      "text/html": [
       "<div>\n",
       "<style scoped>\n",
       "    .dataframe tbody tr th:only-of-type {\n",
       "        vertical-align: middle;\n",
       "    }\n",
       "\n",
       "    .dataframe tbody tr th {\n",
       "        vertical-align: top;\n",
       "    }\n",
       "\n",
       "    .dataframe thead th {\n",
       "        text-align: right;\n",
       "    }\n",
       "</style>\n",
       "<table border=\"1\" class=\"dataframe\">\n",
       "  <thead>\n",
       "    <tr style=\"text-align: right;\">\n",
       "      <th></th>\n",
       "      <th>country_code</th>\n",
       "      <th>country_name</th>\n",
       "      <th>wb_income</th>\n",
       "      <th>wb_region</th>\n",
       "      <th>isic_section_index</th>\n",
       "      <th>isic_section_name</th>\n",
       "      <th>industry_id</th>\n",
       "      <th>industry_name</th>\n",
       "      <th>net_per_10K_2015</th>\n",
       "      <th>net_per_10K_2016</th>\n",
       "      <th>net_per_10K_2017</th>\n",
       "      <th>net_per_10K_2018</th>\n",
       "      <th>net_per_10K_2019</th>\n",
       "    </tr>\n",
       "  </thead>\n",
       "  <tbody>\n",
       "    <tr>\n",
       "      <th>0</th>\n",
       "      <td>ae</td>\n",
       "      <td>United Arab Emirates</td>\n",
       "      <td>High income</td>\n",
       "      <td>Middle East &amp; North Africa</td>\n",
       "      <td>C</td>\n",
       "      <td>Manufacturing</td>\n",
       "      <td>1</td>\n",
       "      <td>Defense &amp; Space</td>\n",
       "      <td>378.74</td>\n",
       "      <td>127.94</td>\n",
       "      <td>8.20</td>\n",
       "      <td>68.51</td>\n",
       "      <td>49.55</td>\n",
       "    </tr>\n",
       "    <tr>\n",
       "      <th>1</th>\n",
       "      <td>ae</td>\n",
       "      <td>United Arab Emirates</td>\n",
       "      <td>High income</td>\n",
       "      <td>Middle East &amp; North Africa</td>\n",
       "      <td>J</td>\n",
       "      <td>Information and communication</td>\n",
       "      <td>3</td>\n",
       "      <td>Computer Hardware</td>\n",
       "      <td>100.97</td>\n",
       "      <td>358.14</td>\n",
       "      <td>112.98</td>\n",
       "      <td>149.57</td>\n",
       "      <td>182.22</td>\n",
       "    </tr>\n",
       "    <tr>\n",
       "      <th>2</th>\n",
       "      <td>ae</td>\n",
       "      <td>United Arab Emirates</td>\n",
       "      <td>High income</td>\n",
       "      <td>Middle East &amp; North Africa</td>\n",
       "      <td>J</td>\n",
       "      <td>Information and communication</td>\n",
       "      <td>4</td>\n",
       "      <td>Computer Software</td>\n",
       "      <td>1079.36</td>\n",
       "      <td>848.15</td>\n",
       "      <td>596.48</td>\n",
       "      <td>409.18</td>\n",
       "      <td>407.41</td>\n",
       "    </tr>\n",
       "    <tr>\n",
       "      <th>3</th>\n",
       "      <td>ae</td>\n",
       "      <td>United Arab Emirates</td>\n",
       "      <td>High income</td>\n",
       "      <td>Middle East &amp; North Africa</td>\n",
       "      <td>J</td>\n",
       "      <td>Information and communication</td>\n",
       "      <td>5</td>\n",
       "      <td>Computer Networking</td>\n",
       "      <td>401.46</td>\n",
       "      <td>447.39</td>\n",
       "      <td>163.99</td>\n",
       "      <td>236.69</td>\n",
       "      <td>188.07</td>\n",
       "    </tr>\n",
       "    <tr>\n",
       "      <th>4</th>\n",
       "      <td>ae</td>\n",
       "      <td>United Arab Emirates</td>\n",
       "      <td>High income</td>\n",
       "      <td>Middle East &amp; North Africa</td>\n",
       "      <td>J</td>\n",
       "      <td>Information and communication</td>\n",
       "      <td>6</td>\n",
       "      <td>Internet</td>\n",
       "      <td>1840.33</td>\n",
       "      <td>1368.42</td>\n",
       "      <td>877.71</td>\n",
       "      <td>852.39</td>\n",
       "      <td>519.40</td>\n",
       "    </tr>\n",
       "  </tbody>\n",
       "</table>\n",
       "</div>"
      ],
      "text/plain": [
       "  country_code          country_name    wb_income                   wb_region  \\\n",
       "0           ae  United Arab Emirates  High income  Middle East & North Africa   \n",
       "1           ae  United Arab Emirates  High income  Middle East & North Africa   \n",
       "2           ae  United Arab Emirates  High income  Middle East & North Africa   \n",
       "3           ae  United Arab Emirates  High income  Middle East & North Africa   \n",
       "4           ae  United Arab Emirates  High income  Middle East & North Africa   \n",
       "\n",
       "  isic_section_index              isic_section_name  industry_id  \\\n",
       "0                  C                  Manufacturing            1   \n",
       "1                  J  Information and communication            3   \n",
       "2                  J  Information and communication            4   \n",
       "3                  J  Information and communication            5   \n",
       "4                  J  Information and communication            6   \n",
       "\n",
       "         industry_name  net_per_10K_2015  net_per_10K_2016  net_per_10K_2017  \\\n",
       "0      Defense & Space            378.74            127.94              8.20   \n",
       "1    Computer Hardware            100.97            358.14            112.98   \n",
       "2    Computer Software           1079.36            848.15            596.48   \n",
       "3  Computer Networking            401.46            447.39            163.99   \n",
       "4             Internet           1840.33           1368.42            877.71   \n",
       "\n",
       "   net_per_10K_2018  net_per_10K_2019  \n",
       "0             68.51             49.55  \n",
       "1            149.57            182.22  \n",
       "2            409.18            407.41  \n",
       "3            236.69            188.07  \n",
       "4            852.39            519.40  "
      ]
     },
     "execution_count": 114,
     "metadata": {},
     "output_type": "execute_result"
    }
   ],
   "source": [
    "industry_migration.head()"
   ]
  },
  {
   "cell_type": "code",
   "execution_count": 121,
   "id": "af2cf0c3",
   "metadata": {},
   "outputs": [
    {
     "data": {
      "text/plain": [
       "(5295, 13)"
      ]
     },
     "execution_count": 121,
     "metadata": {},
     "output_type": "execute_result"
    }
   ],
   "source": [
    "industry_migration.shape"
   ]
  },
  {
   "cell_type": "code",
   "execution_count": 122,
   "id": "5c008554",
   "metadata": {},
   "outputs": [
    {
     "data": {
      "text/html": [
       "<div>\n",
       "<style scoped>\n",
       "    .dataframe tbody tr th:only-of-type {\n",
       "        vertical-align: middle;\n",
       "    }\n",
       "\n",
       "    .dataframe tbody tr th {\n",
       "        vertical-align: top;\n",
       "    }\n",
       "\n",
       "    .dataframe thead th {\n",
       "        text-align: right;\n",
       "    }\n",
       "</style>\n",
       "<table border=\"1\" class=\"dataframe\">\n",
       "  <thead>\n",
       "    <tr style=\"text-align: right;\">\n",
       "      <th></th>\n",
       "      <th>industry_id</th>\n",
       "      <th>net_per_10K_2015</th>\n",
       "      <th>net_per_10K_2016</th>\n",
       "      <th>net_per_10K_2017</th>\n",
       "      <th>net_per_10K_2018</th>\n",
       "      <th>net_per_10K_2019</th>\n",
       "    </tr>\n",
       "  </thead>\n",
       "  <tbody>\n",
       "    <tr>\n",
       "      <th>count</th>\n",
       "      <td>5295.000000</td>\n",
       "      <td>5295.000000</td>\n",
       "      <td>5295.000000</td>\n",
       "      <td>5295.000000</td>\n",
       "      <td>5295.000000</td>\n",
       "      <td>5295.000000</td>\n",
       "    </tr>\n",
       "    <tr>\n",
       "      <th>mean</th>\n",
       "      <td>65.496884</td>\n",
       "      <td>95.228831</td>\n",
       "      <td>68.194300</td>\n",
       "      <td>41.837331</td>\n",
       "      <td>31.354393</td>\n",
       "      <td>6.467590</td>\n",
       "    </tr>\n",
       "    <tr>\n",
       "      <th>std</th>\n",
       "      <td>41.139350</td>\n",
       "      <td>238.124020</td>\n",
       "      <td>225.550355</td>\n",
       "      <td>205.031412</td>\n",
       "      <td>217.543233</td>\n",
       "      <td>192.451055</td>\n",
       "    </tr>\n",
       "    <tr>\n",
       "      <th>min</th>\n",
       "      <td>1.000000</td>\n",
       "      <td>-1185.250000</td>\n",
       "      <td>-1876.780000</td>\n",
       "      <td>-1577.240000</td>\n",
       "      <td>-2025.550000</td>\n",
       "      <td>-3367.370000</td>\n",
       "    </tr>\n",
       "    <tr>\n",
       "      <th>25%</th>\n",
       "      <td>31.000000</td>\n",
       "      <td>-6.980000</td>\n",
       "      <td>-18.325000</td>\n",
       "      <td>-29.420000</td>\n",
       "      <td>-40.090000</td>\n",
       "      <td>-60.120000</td>\n",
       "    </tr>\n",
       "    <tr>\n",
       "      <th>50%</th>\n",
       "      <td>57.000000</td>\n",
       "      <td>51.390000</td>\n",
       "      <td>39.540000</td>\n",
       "      <td>31.130000</td>\n",
       "      <td>25.570000</td>\n",
       "      <td>8.740000</td>\n",
       "    </tr>\n",
       "    <tr>\n",
       "      <th>75%</th>\n",
       "      <td>97.500000</td>\n",
       "      <td>149.490000</td>\n",
       "      <td>135.190000</td>\n",
       "      <td>118.415000</td>\n",
       "      <td>107.825000</td>\n",
       "      <td>82.455000</td>\n",
       "    </tr>\n",
       "    <tr>\n",
       "      <th>max</th>\n",
       "      <td>148.000000</td>\n",
       "      <td>2280.600000</td>\n",
       "      <td>1787.580000</td>\n",
       "      <td>1981.380000</td>\n",
       "      <td>1500.000000</td>\n",
       "      <td>1820.990000</td>\n",
       "    </tr>\n",
       "  </tbody>\n",
       "</table>\n",
       "</div>"
      ],
      "text/plain": [
       "       industry_id  net_per_10K_2015  net_per_10K_2016  net_per_10K_2017  \\\n",
       "count  5295.000000       5295.000000       5295.000000       5295.000000   \n",
       "mean     65.496884         95.228831         68.194300         41.837331   \n",
       "std      41.139350        238.124020        225.550355        205.031412   \n",
       "min       1.000000      -1185.250000      -1876.780000      -1577.240000   \n",
       "25%      31.000000         -6.980000        -18.325000        -29.420000   \n",
       "50%      57.000000         51.390000         39.540000         31.130000   \n",
       "75%      97.500000        149.490000        135.190000        118.415000   \n",
       "max     148.000000       2280.600000       1787.580000       1981.380000   \n",
       "\n",
       "       net_per_10K_2018  net_per_10K_2019  \n",
       "count       5295.000000       5295.000000  \n",
       "mean          31.354393          6.467590  \n",
       "std          217.543233        192.451055  \n",
       "min        -2025.550000      -3367.370000  \n",
       "25%          -40.090000        -60.120000  \n",
       "50%           25.570000          8.740000  \n",
       "75%          107.825000         82.455000  \n",
       "max         1500.000000       1820.990000  "
      ]
     },
     "execution_count": 122,
     "metadata": {},
     "output_type": "execute_result"
    }
   ],
   "source": [
    "industry_migration.describe()"
   ]
  },
  {
   "cell_type": "code",
   "execution_count": 123,
   "id": "42e706ec",
   "metadata": {},
   "outputs": [
    {
     "name": "stdout",
     "output_type": "stream",
     "text": [
      "<class 'pandas.core.frame.DataFrame'>\n",
      "RangeIndex: 5295 entries, 0 to 5294\n",
      "Data columns (total 13 columns):\n",
      " #   Column              Non-Null Count  Dtype  \n",
      "---  ------              --------------  -----  \n",
      " 0   country_code        5295 non-null   object \n",
      " 1   country_name        5295 non-null   object \n",
      " 2   wb_income           5295 non-null   object \n",
      " 3   wb_region           5295 non-null   object \n",
      " 4   isic_section_index  5295 non-null   object \n",
      " 5   isic_section_name   5295 non-null   object \n",
      " 6   industry_id         5295 non-null   int64  \n",
      " 7   industry_name       5295 non-null   object \n",
      " 8   net_per_10K_2015    5295 non-null   float64\n",
      " 9   net_per_10K_2016    5295 non-null   float64\n",
      " 10  net_per_10K_2017    5295 non-null   float64\n",
      " 11  net_per_10K_2018    5295 non-null   float64\n",
      " 12  net_per_10K_2019    5295 non-null   float64\n",
      "dtypes: float64(5), int64(1), object(7)\n",
      "memory usage: 537.9+ KB\n"
     ]
    }
   ],
   "source": [
    "industry_migration.info()"
   ]
  },
  {
   "cell_type": "code",
   "execution_count": null,
   "id": "e9bfe106",
   "metadata": {},
   "outputs": [],
   "source": []
  },
  {
   "cell_type": "code",
   "execution_count": null,
   "id": "c8d3f13c",
   "metadata": {},
   "outputs": [],
   "source": []
  },
  {
   "cell_type": "markdown",
   "id": "88af458d",
   "metadata": {},
   "source": [
    "#### Skill Migration"
   ]
  },
  {
   "cell_type": "code",
   "execution_count": 106,
   "id": "4f871d6f",
   "metadata": {},
   "outputs": [
    {
     "data": {
      "text/html": [
       "<div>\n",
       "<style scoped>\n",
       "    .dataframe tbody tr th:only-of-type {\n",
       "        vertical-align: middle;\n",
       "    }\n",
       "\n",
       "    .dataframe tbody tr th {\n",
       "        vertical-align: top;\n",
       "    }\n",
       "\n",
       "    .dataframe thead th {\n",
       "        text-align: right;\n",
       "    }\n",
       "</style>\n",
       "<table border=\"1\" class=\"dataframe\">\n",
       "  <thead>\n",
       "    <tr style=\"text-align: right;\">\n",
       "      <th></th>\n",
       "      <th>country_code</th>\n",
       "      <th>country_name</th>\n",
       "      <th>wb_income</th>\n",
       "      <th>wb_region</th>\n",
       "      <th>skill_group_id</th>\n",
       "      <th>skill_group_category</th>\n",
       "      <th>skill_group_name</th>\n",
       "      <th>net_per_10K_2015</th>\n",
       "      <th>net_per_10K_2016</th>\n",
       "      <th>net_per_10K_2017</th>\n",
       "      <th>net_per_10K_2018</th>\n",
       "      <th>net_per_10K_2019</th>\n",
       "    </tr>\n",
       "  </thead>\n",
       "  <tbody>\n",
       "    <tr>\n",
       "      <th>0</th>\n",
       "      <td>af</td>\n",
       "      <td>Afghanistan</td>\n",
       "      <td>Low income</td>\n",
       "      <td>South Asia</td>\n",
       "      <td>2549</td>\n",
       "      <td>Tech Skills</td>\n",
       "      <td>Information Management</td>\n",
       "      <td>-791.59</td>\n",
       "      <td>-705.88</td>\n",
       "      <td>-550.04</td>\n",
       "      <td>-680.92</td>\n",
       "      <td>-1208.79</td>\n",
       "    </tr>\n",
       "    <tr>\n",
       "      <th>1</th>\n",
       "      <td>af</td>\n",
       "      <td>Afghanistan</td>\n",
       "      <td>Low income</td>\n",
       "      <td>South Asia</td>\n",
       "      <td>2608</td>\n",
       "      <td>Business Skills</td>\n",
       "      <td>Operational Efficiency</td>\n",
       "      <td>-1610.25</td>\n",
       "      <td>-933.55</td>\n",
       "      <td>-776.06</td>\n",
       "      <td>-532.22</td>\n",
       "      <td>-790.09</td>\n",
       "    </tr>\n",
       "    <tr>\n",
       "      <th>2</th>\n",
       "      <td>af</td>\n",
       "      <td>Afghanistan</td>\n",
       "      <td>Low income</td>\n",
       "      <td>South Asia</td>\n",
       "      <td>3806</td>\n",
       "      <td>Specialized Industry Skills</td>\n",
       "      <td>National Security</td>\n",
       "      <td>-1731.45</td>\n",
       "      <td>-769.68</td>\n",
       "      <td>-756.59</td>\n",
       "      <td>-600.44</td>\n",
       "      <td>-767.64</td>\n",
       "    </tr>\n",
       "    <tr>\n",
       "      <th>3</th>\n",
       "      <td>af</td>\n",
       "      <td>Afghanistan</td>\n",
       "      <td>Low income</td>\n",
       "      <td>South Asia</td>\n",
       "      <td>50321</td>\n",
       "      <td>Tech Skills</td>\n",
       "      <td>Software Testing</td>\n",
       "      <td>-957.50</td>\n",
       "      <td>-828.54</td>\n",
       "      <td>-964.73</td>\n",
       "      <td>-406.50</td>\n",
       "      <td>-739.51</td>\n",
       "    </tr>\n",
       "    <tr>\n",
       "      <th>4</th>\n",
       "      <td>af</td>\n",
       "      <td>Afghanistan</td>\n",
       "      <td>Low income</td>\n",
       "      <td>South Asia</td>\n",
       "      <td>1606</td>\n",
       "      <td>Specialized Industry Skills</td>\n",
       "      <td>Navy</td>\n",
       "      <td>-1510.71</td>\n",
       "      <td>-841.17</td>\n",
       "      <td>-842.32</td>\n",
       "      <td>-581.71</td>\n",
       "      <td>-718.64</td>\n",
       "    </tr>\n",
       "  </tbody>\n",
       "</table>\n",
       "</div>"
      ],
      "text/plain": [
       "  country_code country_name   wb_income   wb_region  skill_group_id  \\\n",
       "0           af  Afghanistan  Low income  South Asia            2549   \n",
       "1           af  Afghanistan  Low income  South Asia            2608   \n",
       "2           af  Afghanistan  Low income  South Asia            3806   \n",
       "3           af  Afghanistan  Low income  South Asia           50321   \n",
       "4           af  Afghanistan  Low income  South Asia            1606   \n",
       "\n",
       "          skill_group_category        skill_group_name  net_per_10K_2015  \\\n",
       "0                  Tech Skills  Information Management           -791.59   \n",
       "1              Business Skills  Operational Efficiency          -1610.25   \n",
       "2  Specialized Industry Skills       National Security          -1731.45   \n",
       "3                  Tech Skills        Software Testing           -957.50   \n",
       "4  Specialized Industry Skills                    Navy          -1510.71   \n",
       "\n",
       "   net_per_10K_2016  net_per_10K_2017  net_per_10K_2018  net_per_10K_2019  \n",
       "0           -705.88           -550.04           -680.92          -1208.79  \n",
       "1           -933.55           -776.06           -532.22           -790.09  \n",
       "2           -769.68           -756.59           -600.44           -767.64  \n",
       "3           -828.54           -964.73           -406.50           -739.51  \n",
       "4           -841.17           -842.32           -581.71           -718.64  "
      ]
     },
     "execution_count": 106,
     "metadata": {},
     "output_type": "execute_result"
    }
   ],
   "source": [
    "skill_migration.head()"
   ]
  },
  {
   "cell_type": "code",
   "execution_count": 124,
   "id": "5b9bec50",
   "metadata": {},
   "outputs": [
    {
     "data": {
      "text/plain": [
       "(17617, 12)"
      ]
     },
     "execution_count": 124,
     "metadata": {},
     "output_type": "execute_result"
    }
   ],
   "source": [
    "skill_migration.shape"
   ]
  },
  {
   "cell_type": "code",
   "execution_count": 127,
   "id": "6666e85f",
   "metadata": {},
   "outputs": [
    {
     "data": {
      "text/html": [
       "<div>\n",
       "<style scoped>\n",
       "    .dataframe tbody tr th:only-of-type {\n",
       "        vertical-align: middle;\n",
       "    }\n",
       "\n",
       "    .dataframe tbody tr th {\n",
       "        vertical-align: top;\n",
       "    }\n",
       "\n",
       "    .dataframe thead th {\n",
       "        text-align: right;\n",
       "    }\n",
       "</style>\n",
       "<table border=\"1\" class=\"dataframe\">\n",
       "  <thead>\n",
       "    <tr style=\"text-align: right;\">\n",
       "      <th></th>\n",
       "      <th>skill_group_id</th>\n",
       "      <th>net_per_10K_2015</th>\n",
       "      <th>net_per_10K_2016</th>\n",
       "      <th>net_per_10K_2017</th>\n",
       "      <th>net_per_10K_2018</th>\n",
       "      <th>net_per_10K_2019</th>\n",
       "    </tr>\n",
       "  </thead>\n",
       "  <tbody>\n",
       "    <tr>\n",
       "      <th>count</th>\n",
       "      <td>17617.000000</td>\n",
       "      <td>17617.000000</td>\n",
       "      <td>17617.00000</td>\n",
       "      <td>17617.000000</td>\n",
       "      <td>17617.000000</td>\n",
       "      <td>17617.000000</td>\n",
       "    </tr>\n",
       "    <tr>\n",
       "      <th>mean</th>\n",
       "      <td>6768.889368</td>\n",
       "      <td>-14.600256</td>\n",
       "      <td>-39.20081</td>\n",
       "      <td>-54.772238</td>\n",
       "      <td>-36.081342</td>\n",
       "      <td>-34.782431</td>\n",
       "    </tr>\n",
       "    <tr>\n",
       "      <th>std</th>\n",
       "      <td>11609.744113</td>\n",
       "      <td>255.690007</td>\n",
       "      <td>252.33377</td>\n",
       "      <td>256.931197</td>\n",
       "      <td>265.209723</td>\n",
       "      <td>239.798934</td>\n",
       "    </tr>\n",
       "    <tr>\n",
       "      <th>min</th>\n",
       "      <td>44.000000</td>\n",
       "      <td>-3037.380000</td>\n",
       "      <td>-2435.26000</td>\n",
       "      <td>-6604.670000</td>\n",
       "      <td>-3629.020000</td>\n",
       "      <td>-4022.040000</td>\n",
       "    </tr>\n",
       "    <tr>\n",
       "      <th>25%</th>\n",
       "      <td>618.000000</td>\n",
       "      <td>-106.160000</td>\n",
       "      <td>-119.24000</td>\n",
       "      <td>-121.460000</td>\n",
       "      <td>-111.440000</td>\n",
       "      <td>-111.740000</td>\n",
       "    </tr>\n",
       "    <tr>\n",
       "      <th>50%</th>\n",
       "      <td>2091.000000</td>\n",
       "      <td>-11.500000</td>\n",
       "      <td>-27.04000</td>\n",
       "      <td>-31.810000</td>\n",
       "      <td>-15.170000</td>\n",
       "      <td>-17.430000</td>\n",
       "    </tr>\n",
       "    <tr>\n",
       "      <th>75%</th>\n",
       "      <td>6189.000000</td>\n",
       "      <td>72.120000</td>\n",
       "      <td>58.85000</td>\n",
       "      <td>47.480000</td>\n",
       "      <td>65.940000</td>\n",
       "      <td>65.920000</td>\n",
       "    </tr>\n",
       "    <tr>\n",
       "      <th>max</th>\n",
       "      <td>50415.000000</td>\n",
       "      <td>2824.970000</td>\n",
       "      <td>1796.89000</td>\n",
       "      <td>1906.140000</td>\n",
       "      <td>1515.790000</td>\n",
       "      <td>1901.990000</td>\n",
       "    </tr>\n",
       "  </tbody>\n",
       "</table>\n",
       "</div>"
      ],
      "text/plain": [
       "       skill_group_id  net_per_10K_2015  net_per_10K_2016  net_per_10K_2017  \\\n",
       "count    17617.000000      17617.000000       17617.00000      17617.000000   \n",
       "mean      6768.889368        -14.600256         -39.20081        -54.772238   \n",
       "std      11609.744113        255.690007         252.33377        256.931197   \n",
       "min         44.000000      -3037.380000       -2435.26000      -6604.670000   \n",
       "25%        618.000000       -106.160000        -119.24000       -121.460000   \n",
       "50%       2091.000000        -11.500000         -27.04000        -31.810000   \n",
       "75%       6189.000000         72.120000          58.85000         47.480000   \n",
       "max      50415.000000       2824.970000        1796.89000       1906.140000   \n",
       "\n",
       "       net_per_10K_2018  net_per_10K_2019  \n",
       "count      17617.000000      17617.000000  \n",
       "mean         -36.081342        -34.782431  \n",
       "std          265.209723        239.798934  \n",
       "min        -3629.020000      -4022.040000  \n",
       "25%         -111.440000       -111.740000  \n",
       "50%          -15.170000        -17.430000  \n",
       "75%           65.940000         65.920000  \n",
       "max         1515.790000       1901.990000  "
      ]
     },
     "execution_count": 127,
     "metadata": {},
     "output_type": "execute_result"
    }
   ],
   "source": [
    "skill_migration.describe()"
   ]
  },
  {
   "cell_type": "code",
   "execution_count": 128,
   "id": "d6e11487",
   "metadata": {},
   "outputs": [
    {
     "name": "stdout",
     "output_type": "stream",
     "text": [
      "<class 'pandas.core.frame.DataFrame'>\n",
      "RangeIndex: 17617 entries, 0 to 17616\n",
      "Data columns (total 12 columns):\n",
      " #   Column                Non-Null Count  Dtype  \n",
      "---  ------                --------------  -----  \n",
      " 0   country_code          17617 non-null  object \n",
      " 1   country_name          17617 non-null  object \n",
      " 2   wb_income             17617 non-null  object \n",
      " 3   wb_region             17617 non-null  object \n",
      " 4   skill_group_id        17617 non-null  int64  \n",
      " 5   skill_group_category  17617 non-null  object \n",
      " 6   skill_group_name      17617 non-null  object \n",
      " 7   net_per_10K_2015      17617 non-null  float64\n",
      " 8   net_per_10K_2016      17617 non-null  float64\n",
      " 9   net_per_10K_2017      17617 non-null  float64\n",
      " 10  net_per_10K_2018      17617 non-null  float64\n",
      " 11  net_per_10K_2019      17617 non-null  float64\n",
      "dtypes: float64(5), int64(1), object(6)\n",
      "memory usage: 1.6+ MB\n"
     ]
    }
   ],
   "source": [
    "skill_migration.info()"
   ]
  },
  {
   "cell_type": "code",
   "execution_count": null,
   "id": "1d3d6979",
   "metadata": {},
   "outputs": [],
   "source": []
  },
  {
   "cell_type": "code",
   "execution_count": null,
   "id": "64f395cb",
   "metadata": {},
   "outputs": [],
   "source": []
  },
  {
   "cell_type": "code",
   "execution_count": null,
   "id": "c033e83e",
   "metadata": {},
   "outputs": [],
   "source": []
  },
  {
   "cell_type": "code",
   "execution_count": null,
   "id": "6c8de251",
   "metadata": {},
   "outputs": [],
   "source": []
  },
  {
   "cell_type": "code",
   "execution_count": null,
   "id": "4cd0cf81",
   "metadata": {},
   "outputs": [],
   "source": []
  },
  {
   "cell_type": "code",
   "execution_count": null,
   "id": "b35d21a5",
   "metadata": {},
   "outputs": [],
   "source": []
  }
 ],
 "metadata": {
  "kernelspec": {
   "display_name": "ironhack",
   "language": "python",
   "name": "ironhack"
  },
  "language_info": {
   "codemirror_mode": {
    "name": "ipython",
    "version": 3
   },
   "file_extension": ".py",
   "mimetype": "text/x-python",
   "name": "python",
   "nbconvert_exporter": "python",
   "pygments_lexer": "ipython3",
   "version": "3.8.5"
  }
 },
 "nbformat": 4,
 "nbformat_minor": 5
}
